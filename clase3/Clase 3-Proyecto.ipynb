{
 "cells": [
  {
   "cell_type": "markdown",
   "metadata": {},
   "source": [
    "# Proyecto - Clase 3"
   ]
  },
  {
   "cell_type": "markdown",
   "metadata": {},
   "source": [
    "Para este proyecto, vamos a trabajar con datos del Banco Mundial, referida a estadísticas de educación a nivel internacional. Pueden leer más de la misma en https://www.kaggle.com/theworldbank/world-bank-intl-education.\n",
    "\n",
    "Ya está preprocesada por nosotros, y está incluida en el repositorio del curso. El nombre del archivo es `EdStats.csv`, pero también hay una versión reducida que tiene sólo 1000 líneas del archivo original y se llama `EdStats_prueba.csv`. Usaremos este último en la etapa de desarrollo del código. Ambos archivos están en el subdirectorio `datos` del directorio `clase3`.\n",
    "\n",
    "El objetivo de este proyecto es familiarizarnos con la creación de clases y objetos, y la filosofía detrás de su uso. Para ello vamos a implementar algunas clases de Python para que nos ayuden a estructurar estos datos (Ejercicios 1-4). El resto de los ejercicios les quedan de tarea."
   ]
  },
  {
   "cell_type": "markdown",
   "metadata": {},
   "source": [
    "## Descripción de los datos"
   ]
  },
  {
   "cell_type": "markdown",
   "metadata": {},
   "source": [
    "Vamos a usar un archivo csv con las siguientes columnas:\n",
    "- **Country Name**: tiene información básica de los países.\n",
    "- **Country Code**: tiene, por cada fila, una estadística para un dado país.\n",
    "- **Indicator Code**: código que identifica al indicador que se provee en esa fila.\n",
    "- **Value_2014**: valor del indicador anterior para el año 2014"
   ]
  },
  {
   "cell_type": "markdown",
   "metadata": {},
   "source": [
    "### Ejercicio 1: "
   ]
  },
  {
   "cell_type": "markdown",
   "metadata": {},
   "source": [
    "Hagamos una clase muy básica que represente a un país y llamémosla `Pais`. Vamos a crear un constructor, en el que por ahora incluiremos sólo nombre y abreviatura del país, y un diccionario vacío donde más adelante vamos a depositar las estadísticas que tiene la tabla 2."
   ]
  },
  {
   "cell_type": "markdown",
   "metadata": {},
   "source": [
    "### Ejercicio 2:"
   ]
  },
  {
   "cell_type": "markdown",
   "metadata": {},
   "source": [
    "Ahora creemos una clase que represente al mundo. Llamémosla `Mundo`. No va a ser más que un diccionario, llamado `paises`, cuyas claves serán los nombres de los países y los valores serán cada uno un objeto de clase `Pais`. Luego agregaremos métodos para interactuar con ella (con la clase `Mundo`).\n",
    "\n",
    "\n",
    "Dado que el mundo es uno solo, *no necesitamos definir un constructor* (es decir, no vamos a instanciar distintos objetos de clase `Mundo`).\n",
    "\n",
    "En principio este diccionario va a estar vacío, y vamos a agregar países a medida que nos los vayamos encontrando en tabla 2. Para hacerlo, vamos a crear dos métodos:\n",
    "\n",
    "- Uno se va a encargar de agregar un país al diccionario. Llamémoslo `agregar_pais`.\n",
    "- Otro se va a encargar de agregar una estadística el país correspondiente. Sin embargo, si ese país no se encuentra ya en el diccionario, previamente tiene que llamar al método anterior para agregarlo. Para determinar este comportamiento usaremos una instrucción try/except. A este método lo llamaremos `agregar_estadistica`."
   ]
  },
  {
   "cell_type": "markdown",
   "metadata": {},
   "source": [
    "### Ejercicio 3:\n",
    "Ahora creemos una clase para ayudarnos a leer el archivo `csv`. Llamémosla `LectorDeTabla`. Noten que esto no es más que una especie de sustituto del `csv.reader` que ya hemos visto y usado.\n",
    "\n",
    "La idea es que podamos utilizar esta clase para instanciar objetos que representen un dado archivo `csv` y, mediante métodos, simplificar el proceso de extraer los campos que nos interesan.\n",
    "\n",
    "Por lo tanto, vamos a implementar varios métodos:\n",
    "- El **constructor**: va a recibir el nombre del archivo como argumento y, opcionalmente, el carácter que se usa como separador de celdas.\n",
    "- Un método llamado `leer_siguiente_linea`, no va a recibir ningún argumento (además del objeto en sí), y va a devolver una lista, cuyos elementos son los valores de cada una de las celdas de esa línea.\n",
    "- `extraer_pais` va a devolver el país correspondiente a la línea actual.\n",
    "- `extraer_estadistica` va a devolver la estadística correspondiente a la línea actual.\n",
    "\n",
    "Para ayudarnos con esto, vamos a utilizar algunos métodos de procesamiento de strings:\n",
    "- `split`: recibe un string \"separador\" (por ejemplo, `,`) y devuelve una lista producida particionando la string de acuerdo a ese separador.\n",
    "- `strip`: devuelve un string pero sin los espacios en blanco o saltos de línea que pueda haber en los extremos."
   ]
  },
  {
   "cell_type": "markdown",
   "metadata": {},
   "source": [
    "### Ejercicio 4:\n",
    "Ahora \"juntemos\" las dos clases: vamos a utilizar `LectorDeTabla` para ir leyendo el archivo línea por línea y extraer los campos que nos interesan. \n",
    "\n",
    "Para hacer esto, vamos a ampliar la clase `Mundo`, creando un método llamado `cargar_contenido` que recibe el nombre de nuestro archivo de datos y nos vuelca todo su contenido en la clase `Mundo`.\n",
    "Es decir, queremos un método que nos permita cargar todo el contenido del archivo ejecutando simplemente\n",
    "`Mundo.cargar_contenido(<ARCHIVO>)`"
   ]
  },
  {
   "cell_type": "markdown",
   "metadata": {},
   "source": [
    "### Ejercicio 5:\n",
    "Ampliar la clase `Mundo` agregando un método llamado `lista_de_paises` que devuelva una **lista ordenada alfabéticamente** de todos los países que contiene dicha clase. Ayuda: usar la función `sorted`."
   ]
  },
  {
   "cell_type": "markdown",
   "metadata": {},
   "source": [
    "### Ejercicio 6:\n",
    "Ampliar la clase Mundo agregando un método llamado `lista_de_estadisticas` que devuelva los nombres de todas las estadísticas que tiene un dado país (que se le debe pasar como argumento a dicho método). Si se provee un país que no pertenece al diccionario, debe imprimir un mensaje que diga `El país <PAIS> no existe en el Mundo` (pero **no** debe producir error). Ayuda: usar `try/except`."
   ]
  },
  {
   "cell_type": "markdown",
   "metadata": {},
   "source": [
    "### Ejercicio 7:\n",
    "Ampliar la clase `Mundo` agregando un método llamado `gasto_educ_total`, que reciba como argumento un país y devuelva el gasto total en educación del país en dólares, usando para calcularlo 1) el PBI en dólares y 2) el gasto en educación como porcentaje del PBI. \n",
    "Si el país no tiene los datos correspondientes necesarios para calcular esto, nuevamente no debe producir error, sino imprimir un mensaje que diga `El país <PAIS> no tiene datos suficientes para calcular el gasto total en educación.`"
   ]
  },
  {
   "cell_type": "markdown",
   "metadata": {},
   "source": [
    "Nombres de los códigos que tienen que utilizar:\n",
    "\n",
    "- `NY.GDP.MKTP.CD`: PBI en dólares actuales.\n",
    "\n",
    "- `SE.XPD.TOTL.GD.ZS`: Gasto total en educación como porcentaje del PBI."
   ]
  },
  {
   "cell_type": "code",
   "execution_count": null,
   "metadata": {},
   "outputs": [],
   "source": []
  }
 ],
 "metadata": {
  "kernelspec": {
   "display_name": "Python 3",
   "language": "python",
   "name": "python3"
  },
  "language_info": {
   "codemirror_mode": {
    "name": "ipython",
    "version": 3
   },
   "file_extension": ".py",
   "mimetype": "text/x-python",
   "name": "python",
   "nbconvert_exporter": "python",
   "pygments_lexer": "ipython3",
   "version": "3.7.4"
  }
 },
 "nbformat": 4,
 "nbformat_minor": 4
}
