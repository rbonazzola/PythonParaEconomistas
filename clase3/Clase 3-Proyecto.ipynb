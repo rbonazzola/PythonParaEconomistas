{
 "cells": [
  {
   "cell_type": "markdown",
   "metadata": {},
   "source": [
    "# Proyecto - Clase 3"
   ]
  },
  {
   "cell_type": "markdown",
   "metadata": {},
   "source": [
    "Para este proyecto, vamos a trabajar con datos del Banco Mundial, referida a estadísticas de educación a nivel internacional. Pueden leer más de la misma en https://www.kaggle.com/theworldbank/world-bank-intl-education.\n",
    "\n",
    "Ya está preprocesada por nosotros, y está incluida en el repositorio del curso. El nombre del archivo es `EdStats.csv`, pero también hay una versión reducida que tiene sólo 1000 líneas del archivo original y se llama `EdStats_prueba.csv`. Usaremos este último en la etapa de desarrollo del código. Ambos archivos están en el subdirectorio `datos` del directorio `clase3`.\n",
    "\n",
    "El objetivo de este proyecto es familiarizarnos con la creación de clases y objetos, y la filosofía detrás de su uso. Para ello vamos a implementar algunas clases de Python para que nos ayuden a estructurar estos datos (Ejercicios 1-4). El resto de los ejercicios les quedan de tarea."
   ]
  },
  {
   "cell_type": "markdown",
   "metadata": {},
   "source": [
    "## Descripción de los datos"
   ]
  },
  {
   "cell_type": "markdown",
   "metadata": {},
   "source": [
    "Vamos a usar un archivo csv con las siguientes columnas:\n",
    "- **Country Name**: tiene información básica de los países.\n",
    "- **Country Code**: tiene, por cada fila, una estadística para un dado país.\n",
    "- **Indicator Code**: código que identifica al indicador que se provee en esa fila.\n",
    "- **value_2014**: valor del indicador anterior para el año 2014"
   ]
  },
  {
   "cell_type": "markdown",
   "metadata": {},
   "source": [
    "### Primero definamos algunas constantes (los paths de los archivos)"
   ]
  },
  {
   "cell_type": "code",
   "execution_count": 1,
   "metadata": {},
   "outputs": [],
   "source": [
    "ARCHIVO_DATOS = \"datos/EdStats.csv\"\n",
    "ARCHIVO_DATOS_PRUEBA = \"datos/EdStats_prueba.csv\""
   ]
  },
  {
   "cell_type": "markdown",
   "metadata": {},
   "source": [
    "### Ejercicio 1: "
   ]
  },
  {
   "cell_type": "markdown",
   "metadata": {},
   "source": [
    "Hagamos una clase muy básica que represente a un país y llamémosla `Pais`. Vamos a crear un constructor, en el que por ahora incluiremos sólo nombre y abreviatura del país, y un diccionario vacío donde más adelante vamos a depositar las estadísticas que tiene la tabla 2."
   ]
  },
  {
   "cell_type": "code",
   "execution_count": 2,
   "metadata": {},
   "outputs": [],
   "source": [
    "class Pais:\n",
    "    \n",
    "    def __init__(self, nombre, abreviatura):\n",
    "        self.nombre = nombre\n",
    "        self.abreviatura = abreviatura\n",
    "        self.estadisticas = {}\n",
    "        \n",
    "    # agregué este método para que podamos imprimir el país de una manera amigable\n",
    "    def __str__(self):\n",
    "        return self.nombre"
   ]
  },
  {
   "cell_type": "markdown",
   "metadata": {},
   "source": [
    "### Ejercicio 2:"
   ]
  },
  {
   "cell_type": "markdown",
   "metadata": {},
   "source": [
    "Ahora creemos una clase que represente al mundo. Llamémosla `Mundo`. No va a ser más que un diccionario, llamado `paises`, cuyas claves serán los nombres de los países y los valores serán cada uno un objeto de clase `Pais`. Luego agregaremos métodos para interactuar con ella (con la clase `Mundo`).\n",
    "\n",
    "\n",
    "Dado que el mundo es uno solo, *no necesitamos definir un constructor* (es decir, no vamos a instanciar distintos objetos de clase `Mundo`).\n",
    "\n",
    "En principio este diccionario va a estar vacío, y vamos a agregar países a medida que nos los vayamos encontrando en la tabla. Para hacerlo, vamos a crear dos métodos:\n",
    "\n",
    "- Uno se va a encargar de agregar un país al diccionario. Llamémoslo `agregar_pais`.\n",
    "- Otro se va a encargar de agregar una estadística el país correspondiente. Sin embargo, si ese país no se encuentra ya en el diccionario, previamente tiene que llamar al método anterior para agregarlo. Para determinar este comportamiento usaremos una instrucción try/except. A este método lo llamaremos `agregar_estadistica`."
   ]
  },
  {
   "cell_type": "code",
   "execution_count": 3,
   "metadata": {},
   "outputs": [],
   "source": [
    "class Mundo:\n",
    "    \n",
    "    paises = {}\n",
    "    \n",
    "    def agregar_pais(nombre_del_pais, abr_del_pais):\n",
    "        Mundo.paises[abr_del_pais] = Pais(nombre_del_pais, abr_del_pais)\n",
    "    \n",
    "    def agregar_estadistica(nombre_del_pais, abr_del_pais, codigo_de_indicador, valor):\n",
    "        \n",
    "        try:\n",
    "            Mundo.paises[abr_del_pais].estadisticas[codigo_de_indicador] = valor\n",
    "        except KeyError:\n",
    "            Mundo.agregar_pais(nombre_del_pais, abr_del_pais)\n",
    "            Mundo.paises[abr_del_pais].estadisticas[codigo_de_indicador] = valor"
   ]
  },
  {
   "cell_type": "markdown",
   "metadata": {},
   "source": [
    "### Ejercicio 3:\n",
    "Ahora creemos una clase para ayudarnos a leer el archivo `csv`. Llamémosla `LectorDeTabla`. Noten que esto no es más que una especie de sustituto del `csv.reader` que ya hemos visto y usado.\n",
    "\n",
    "La idea es que podamos utilizar esta clase para instanciar objetos que representen un dado archivo `csv` y, mediante métodos, simplificar el proceso de extraer los campos que nos interesan.\n",
    "\n",
    "Por lo tanto, vamos a implementar varios métodos:\n",
    "- El **constructor**: va a recibir el nombre del archivo como argumento y, opcionalmente, el carácter que se usa como separador de celdas.\n",
    "- Un método llamado `leer_siguiente_linea`, no va a recibir ningún argumento (además del objeto en sí), y va a devolver una lista, cuyos elementos son los valores de cada una de las celdas de esa línea.\n",
    "- `extraer_pais` va a devolver el país correspondiente a la línea actual.\n",
    "- `extraer_estadistica` va a devolver la estadística correspondiente a la línea actual.\n",
    "\n",
    "Para ayudarnos con esto, vamos a utilizar algunos métodos de procesamiento de strings:\n",
    "- `str.split`: recibe un string \"separador\" (por ejemplo, `,`) y devuelve una lista producida particionando la string de acuerdo a ese separador.\n",
    "- `str.strip`: devuelve un string pero sin los espacios en blanco o saltos de línea que pueda haber en los extremos."
   ]
  },
  {
   "cell_type": "markdown",
   "metadata": {},
   "source": [
    "#### Antes de escribir la clase, hagamos unas pruebas:"
   ]
  },
  {
   "cell_type": "markdown",
   "metadata": {},
   "source": [
    "Veamos cómo funcionan `split` y `strip`"
   ]
  },
  {
   "cell_type": "code",
   "execution_count": 4,
   "metadata": {},
   "outputs": [],
   "source": [
    "\"Hola que tal\".split(\" \")"
   ]
  },
  {
   "cell_type": "code",
   "execution_count": 5,
   "metadata": {},
   "outputs": [],
   "source": [
    "\"Hola, que tal\".split(\",\")"
   ]
  },
  {
   "cell_type": "code",
   "execution_count": 6,
   "metadata": {},
   "outputs": [],
   "source": [
    "\"    Hola que tal   \".strip()"
   ]
  },
  {
   "cell_type": "markdown",
   "metadata": {},
   "source": [
    "Ahora veamos cómo leer un archivo línea por línea"
   ]
  },
  {
   "cell_type": "code",
   "execution_count": 7,
   "metadata": {},
   "outputs": [],
   "source": [
    "f = open(ARCHIVO_DATOS_PRUEBA, \"r\")"
   ]
  },
  {
   "cell_type": "code",
   "execution_count": 8,
   "metadata": {},
   "outputs": [],
   "source": [
    "f.readline() # Leemos el encabezado (pero no lo guardamos porque no nos interesa)"
   ]
  },
  {
   "cell_type": "code",
   "execution_count": 9,
   "metadata": {},
   "outputs": [
    {
     "data": {
      "text/plain": [
       "'Arab World,ARB,UIS.NERA.2,\\n'"
      ]
     },
     "execution_count": 9,
     "metadata": {},
     "output_type": "execute_result"
    }
   ],
   "source": [
    "line = f.readline()\n",
    "line # hay un '\\n' (un salto de línea) al final, por eso necesitamos el strip"
   ]
  },
  {
   "cell_type": "markdown",
   "metadata": {},
   "source": [
    "Con esta instrucción obtenemos una lista con los componentes de la línea en cuestión"
   ]
  },
  {
   "cell_type": "code",
   "execution_count": 10,
   "metadata": {},
   "outputs": [
    {
     "data": {
      "text/plain": [
       "['Arab World', 'ARB', 'UIS.NERA.2', '']"
      ]
     },
     "execution_count": 10,
     "metadata": {},
     "output_type": "execute_result"
    }
   ],
   "source": [
    "componentes = line.strip().split(\",\")\n",
    "componentes"
   ]
  },
  {
   "cell_type": "code",
   "execution_count": 11,
   "metadata": {},
   "outputs": [],
   "source": [
    "class LectorDeTabla:\n",
    "    \n",
    "    def __init__(self, archivo, separador=\",\"):\n",
    "        self.archivo = open(archivo, \"r\")\n",
    "        self.separador = separador\n",
    "        self.linea_actual = None\n",
    "        \n",
    "    def leer_siguiente_linea(self):\n",
    "        self.linea_actual = self.archivo.readline().strip().split(self.separador)\n",
    "    \n",
    "    def extraer_pais(self):\n",
    "        return Pais(self.linea_actual[0], self.linea_actual[1])\n",
    "    \n",
    "    def extraer_estadistica(self):\n",
    "        # En la clase había hecho que este método devuelva un diccionario\n",
    "        # Ahora lo cambié por una tupla por simplicidad\n",
    "        codigo_de_indicador, valor = self.linea_actual[2], self.linea_actual[3]\n",
    "        return (codigo_de_indicador, valor)\n",
    "    "
   ]
  },
  {
   "cell_type": "code",
   "execution_count": 12,
   "metadata": {},
   "outputs": [],
   "source": [
    "tabla = LectorDeTabla(ARCHIVO_DATOS)\n",
    "tabla.leer_siguiente_linea() # Leemos la primera línea, que es el encabezado"
   ]
  },
  {
   "cell_type": "code",
   "execution_count": 13,
   "metadata": {},
   "outputs": [],
   "source": [
    "tabla.leer_siguiente_linea()"
   ]
  },
  {
   "cell_type": "code",
   "execution_count": 14,
   "metadata": {},
   "outputs": [
    {
     "name": "stdout",
     "output_type": "stream",
     "text": [
      "Arab World\n"
     ]
    }
   ],
   "source": [
    "pais = tabla.extraer_pais()\n",
    "print(pais)"
   ]
  },
  {
   "cell_type": "markdown",
   "metadata": {},
   "source": [
    "### Ejercicio 4:\n",
    "Ahora \"juntemos\" las dos clases: vamos a utilizar `LectorDeTabla` para ir leyendo el archivo línea por línea y extraer los campos que nos interesan. \n",
    "\n",
    "Para hacer esto, vamos a ampliar la clase `Mundo`, creando un método llamado `cargar_contenido` que recibe el nombre de nuestro archivo de datos y nos vuelca todo su contenido en la clase `Mundo`.\n",
    "Es decir, queremos un método que nos permita cargar todo el contenido del archivo ejecutando simplemente\n",
    "`Mundo.cargar_contenido(<ARCHIVO>)`"
   ]
  },
  {
   "cell_type": "code",
   "execution_count": 15,
   "metadata": {},
   "outputs": [],
   "source": [
    "class Mundo:\n",
    "    \n",
    "    paises = {}\n",
    "    \n",
    "    def agregar_pais(nombre_del_pais, abr_del_pais):\n",
    "        Mundo.paises[abr_del_pais] = Pais(nombre_del_pais, abr_del_pais)\n",
    "    \n",
    "    def agregar_estadistica(nombre_del_pais, abr_del_pais, codigo_de_indicador, valor):\n",
    "        \n",
    "        try:\n",
    "            Mundo.paises[abr_del_pais].estadisticas[codigo_de_indicador] = valor\n",
    "        except KeyError:\n",
    "            # Si el país no está en el diccionario paises, se agrega...\n",
    "            Mundo.agregar_pais(nombre_del_pais, abr_del_pais)\n",
    "            # ... y luego se agrega la estadística correpondiente\n",
    "            Mundo.paises[abr_del_pais].estadisticas[codigo_de_indicador] = valor\n",
    "            \n",
    "    def cargar_contenido(archivo):\n",
    "        \n",
    "        lector = LectorDeTabla(archivo)\n",
    "        lector.leer_siguiente_linea() # leemos el encabezado\n",
    "        \n",
    "        while True:            \n",
    "            \n",
    "            lector.leer_siguiente_linea()\n",
    "            \n",
    "            # Cuando llegamos al final del archivo, lector.linea_actual vale [''],\n",
    "            # entonces podemos chequearlo con este if\n",
    "            if len(lector.linea_actual) == 1: \n",
    "                return\n",
    "            \n",
    "            pais = lector.extraer_pais()        \n",
    "            estadistica = lector.extraer_estadistica()\n",
    "            Mundo.agregar_estadistica(pais.nombre, pais.abreviatura, estadistica[0], estadistica[1])    "
   ]
  },
  {
   "cell_type": "markdown",
   "metadata": {},
   "source": [
    "Acá usamos el archivo completo."
   ]
  },
  {
   "cell_type": "code",
   "execution_count": 18,
   "metadata": {},
   "outputs": [
    {
     "data": {
      "text/plain": [
       "dict_keys(['ARB', 'EAS', 'EAP', 'EMU', 'ECS', 'ECA', 'EUU', 'HPC', 'HIC', 'LCN', 'LAC', 'LDC', 'LMY', 'LIC', 'LMC', 'MEA', 'MNA', 'MIC', 'NAC', 'OED', 'SAS', 'SSF', 'SSA', 'UMC', 'WLD', 'AFG', 'ALB', 'DZA', 'ASM', 'AND', 'AGO', 'ATG', 'ARG', 'ARM', 'ABW', 'AUS', 'AUT', 'AZE', 'BHR', 'BGD', 'BRB', 'BLR', 'BEL', 'BLZ', 'BEN', 'BMU', 'BTN', 'BOL', 'BIH', 'BWA', 'BRA', 'VGB', 'BRN', 'BGR', 'BFA', 'BDI', 'CPV', 'KHM', 'CMR', 'CAN', 'CYM', 'CAF', 'TCD', 'CHI', 'CHL', 'CHN', 'COL', 'COM', 'CRI', 'CIV', 'HRV', 'CUB', 'CUW', 'CYP', 'CZE', 'DNK', 'DJI', 'DMA', 'DOM', 'ECU', 'SLV', 'GNQ', 'ERI', 'EST', 'ETH', 'FRO', 'FJI', 'FIN', 'FRA', 'PYF', 'GAB', 'GEO', 'DEU', 'GHA', 'GIB', 'GRC', 'GRL', 'GRD', 'GUM', 'GTM', 'GIN', 'GNB', 'GUY', 'HTI', 'HND', 'HUN', 'ISL', 'IND', 'IDN', 'IRQ', 'IRL', 'IMN', 'ISR', 'ITA', 'JAM', 'JPN', 'JOR', 'KAZ', 'KEN', 'KIR', 'XKX', 'KWT', 'KGZ', 'LAO', 'LVA', 'LBN', 'LSO', 'LBR', 'LBY', 'LIE', 'LTU', 'LUX', 'MDG', 'MWI', 'MYS', 'MDV', 'MLI', 'MLT', 'MHL', 'MRT', 'MUS', 'MEX', 'MDA', 'MCO', 'MNG', 'MNE', 'MAR', 'MOZ', 'MMR', 'NAM', 'NRU', 'NPL', 'NLD', 'NCL', 'NZL', 'NIC', 'NER', 'NGA', 'MNP', 'NOR', 'OMN', 'PAK', 'PLW', 'PAN', 'PNG', 'PRY', 'PER', 'PHL', 'POL', 'PRT', 'PRI', 'QAT', 'ROU', 'RUS', 'RWA', 'WSM', 'SMR', 'STP', 'SAU', 'SEN', 'SRB', 'SYC', 'SLE', 'SGP', 'SXM', 'SVK', 'SVN', 'SLB', 'SOM', 'ZAF', 'SSD', 'ESP', 'LKA', 'KNA', 'LCA', 'MAF', 'VCT', 'SDN', 'SUR', 'SWZ', 'SWE', 'CHE', 'SYR', 'TJK', 'TZA', 'THA', 'TLS', 'TGO', 'TON', 'TTO', 'TUN', 'TUR', 'TKM', 'TCA', 'TUV', 'UGA', 'UKR', 'ARE', 'GBR', 'USA', 'URY', 'UZB', 'VUT', 'VNM', 'VIR', 'PSE', 'ZMB', 'ZWE'])"
      ]
     },
     "execution_count": 18,
     "metadata": {},
     "output_type": "execute_result"
    }
   ],
   "source": [
    "Mundo.cargar_contenido(ARCHIVO_DATOS)"
   ]
  },
  {
   "cell_type": "markdown",
   "metadata": {},
   "source": [
    "### Ejercicio 5:\n",
    "Ampliar la clase `Mundo` agregando un método llamado `lista_de_paises` que devuelva una **lista ordenada alfabéticamente** de todos los países que contiene dicha clase. La lista debe contener los **nombres completos** de los países (no las abreviaturas). Ayuda: usar la función `sorted`. Este método se puede escribir en una línea de código."
   ]
  },
  {
   "cell_type": "markdown",
   "metadata": {},
   "source": [
    "### Ejercicio 6:\n",
    "Ampliar la clase Mundo agregando un método llamado `lista_de_estadisticas` que devuelva los nombres de todas las estadísticas que tiene un dado país (que se le debe pasar como argumento a dicho método). Si se provee un país que no pertenece al diccionario, debe imprimir un mensaje que diga `El país <PAIS> no existe en el Mundo` (pero **no** debe producir error). Ayuda: usar `try/except`."
   ]
  },
  {
   "cell_type": "markdown",
   "metadata": {},
   "source": [
    "### Ejercicio 7:\n",
    "Ampliar la clase `Mundo` agregando un método llamado `gasto_educ_total`, que reciba como argumento un país y devuelva el gasto total en educación del país en dólares, usando para calcularlo 1) el PBI en dólares y 2) el gasto en educación como porcentaje del PBI. \n",
    "Si el país no tiene los datos correspondientes necesarios para calcular esto, nuevamente no debe producir error, sino imprimir un mensaje que diga `El país <PAIS> no tiene datos suficientes para calcular el gasto total en educación.`"
   ]
  },
  {
   "cell_type": "markdown",
   "metadata": {},
   "source": [
    "Nombres de los códigos que tienen que utilizar:\n",
    "\n",
    "- `NY.GDP.MKTP.CD`: PBI en dólares actuales.\n",
    "\n",
    "- `SE.XPD.TOTL.GD.ZS`: Gasto total en educación como porcentaje del PBI."
   ]
  },
  {
   "cell_type": "markdown",
   "metadata": {},
   "source": [
    "### Resuelvan los 3 ejercicios dentro de esta celda:"
   ]
  },
  {
   "cell_type": "code",
   "execution_count": 17,
   "metadata": {},
   "outputs": [],
   "source": [
    "class Mundo:\n",
    "    \n",
    "    paises = {}\n",
    "    \n",
    "    def agregar_pais(nombre_del_pais, abr_del_pais):\n",
    "        Mundo.paises[abr_del_pais] = Pais(nombre_del_pais, abr_del_pais)\n",
    "    \n",
    "    def agregar_estadistica(nombre_del_pais, abr_del_pais, codigo_de_indicador, valor):\n",
    "        \n",
    "        try:\n",
    "            Mundo.paises[abr_del_pais].estadisticas[codigo_de_indicador] = valor\n",
    "        except KeyError:\n",
    "            # Si el país no está en el diccionario paises, se agrega...\n",
    "            Mundo.agregar_pais(nombre_del_pais, abr_del_pais)\n",
    "            # ... y luego se agrega la estadística correpondiente\n",
    "            Mundo.paises[abr_del_pais].estadisticas[codigo_de_indicador] = valor\n",
    "            \n",
    "    def cargar_contenido(archivo):\n",
    "        \n",
    "        lector = LectorDeTabla(archivo)\n",
    "        lector.leer_siguiente_linea() # leemos el encabezado\n",
    "        \n",
    "        while True:            \n",
    "            \n",
    "            lector.leer_siguiente_linea()\n",
    "            \n",
    "            # Cuando llegamos al final del archivo, lector.linea_actual vale [''],\n",
    "            # entonces podemos chequearlo con este if\n",
    "            if len(lector.linea_actual) == 1: \n",
    "                return\n",
    "            \n",
    "            pais = lector.extraer_pais()        \n",
    "            estadistica = lector.extraer_estadistica()\n",
    "            Mundo.agregar_estadistica(pais.nombre, pais.abreviatura, estadistica[0], estadistica[1])    \n",
    "\n",
    "            \n",
    "    # Ejercicio 5\n",
    "    def lista_de_paises():\n",
    "        # SU CÓDIGO ACÁ\n",
    "        pass # esto lo tienen que eliminar al final, es sólo para que no les dé error al correr esta celda como está\n",
    "\n",
    "    \n",
    "    # Ejercicio 6\n",
    "    def lista_de_estadisticas(abr_del_pais):\n",
    "        # SU CÓDIGO ACÁ\n",
    "        \n",
    "        #try:\n",
    "        #\n",
    "        #except:\n",
    "        #\n",
    "        \n",
    "        pass # ídem arriba \n",
    "\n",
    "    \n",
    "    # Ejercicio 7\n",
    "    def gasto_educ_total(abr_del_pais):\n",
    "        # SU CÓDIGO ACÁ\n",
    "        \n",
    "        #try:\n",
    "        #\n",
    "        #except:\n",
    "        #\n",
    "        \n",
    "        pass # ídem arriba"
   ]
  }
 ],
 "metadata": {
  "kernelspec": {
   "display_name": "Python 3",
   "language": "python",
   "name": "python3"
  },
  "language_info": {
   "codemirror_mode": {
    "name": "ipython",
    "version": 3
   },
   "file_extension": ".py",
   "mimetype": "text/x-python",
   "name": "python",
   "nbconvert_exporter": "python",
   "pygments_lexer": "ipython3",
   "version": "3.7.4"
  }
 },
 "nbformat": 4,
 "nbformat_minor": 4
}
