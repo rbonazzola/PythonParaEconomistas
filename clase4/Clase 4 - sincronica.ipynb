{
 "cells": [
  {
   "cell_type": "markdown",
   "metadata": {},
   "source": [
    "# Clase 4"
   ]
  },
  {
   "cell_type": "markdown",
   "metadata": {},
   "source": [
    "**Plan de clase:**  \n",
    "**(1)** Repasar Pandas  \n",
    "**(2)** Introducción a RegEx.  \n",
    "**(3)** Introducción a fuzzy string matching  \n",
    "**(4)** Repaso de matplotlib  \n",
    "**(5)** Introducción a Ipywidgets  \n",
    "**(6)** Proyectos"
   ]
  },
  {
   "cell_type": "markdown",
   "metadata": {
    "id": "EcNl9ORpsP9e"
   },
   "source": [
    "## (1) Repaso de Pandas\n",
    "- abrir archivos\n",
    "- inspeccionar los datos\n",
    "- crear columnas\n",
    "- seleccionar y dropear columnas\n",
    "- seleccionar segmentos de una base (filtrar, slice, loc)"
   ]
  },
  {
   "cell_type": "markdown",
   "metadata": {},
   "source": [
    " "
   ]
  },
  {
   "cell_type": "markdown",
   "metadata": {},
   "source": [
    "**Ejercicio de clase:**  \n",
    "Separarse en grupos y hacer lo siguiente:  \n",
    "**(a)** cargar los datos en el archivo \"potencia_instalada.csv\". _Nota: van a tener que definir el parametro encoding='latin1')_  \n",
    "**(b)** identificar cuantas columnas hay, cantidades según tipo de dato y si alguna tiene missing values.  \n",
    "**(c)** inspeccionamos las primeras 5 lineas: ¿qué problema ven?  \n",
    "**(d)** armar una dataframe llamada \"df\" que tenga las siguientes columnas: periodo, el agente, la descripcion del agente, la fuente de generacion y la potencia instalada.  \n",
    "**(e)** redondear la columna de potencia instalada al entero más cercano  \n",
    "**(f)** cambiar el formato de la columna de potencia instalada a int  \n",
    "**(g)** cortar la base para quedarnos únicamente con las primeras 11497 filas"
   ]
  },
  {
   "cell_type": "code",
   "execution_count": null,
   "metadata": {
    "collapsed": true
   },
   "outputs": [],
   "source": []
  },
  {
   "cell_type": "code",
   "execution_count": null,
   "metadata": {
    "collapsed": true
   },
   "outputs": [],
   "source": []
  },
  {
   "cell_type": "code",
   "execution_count": null,
   "metadata": {
    "collapsed": true
   },
   "outputs": [],
   "source": []
  },
  {
   "cell_type": "code",
   "execution_count": null,
   "metadata": {
    "collapsed": true
   },
   "outputs": [],
   "source": []
  },
  {
   "cell_type": "markdown",
   "metadata": {},
   "source": [
    "## (2) Introducción a RegEx"
   ]
  },
  {
   "cell_type": "markdown",
   "metadata": {},
   "source": [
    "Librería para buscar subcadenas (Expressions) de texto que cumplen un patrómn definido (Regular). Muy versátil y útil para clasificar o extraer texto en campos no-limpios."
   ]
  },
  {
   "cell_type": "code",
   "execution_count": null,
   "metadata": {},
   "outputs": [],
   "source": [
    "df.loc[0,'periodo']"
   ]
  },
  {
   "cell_type": "code",
   "execution_count": null,
   "metadata": {
    "collapsed": true
   },
   "outputs": [],
   "source": [
    "cadena1 = '01/10/2015 0:00'"
   ]
  },
  {
   "cell_type": "code",
   "execution_count": null,
   "metadata": {},
   "outputs": [],
   "source": [
    "cadena.split('/')"
   ]
  },
  {
   "cell_type": "code",
   "execution_count": null,
   "metadata": {},
   "outputs": [],
   "source": [
    "#df.loc[2657,'agente_descripcion']\n",
    "#df.loc[11371,'agente_descripcion']\n",
    "df.loc[3067,'agente_descripcion']\n"
   ]
  },
  {
   "cell_type": "code",
   "execution_count": null,
   "metadata": {
    "collapsed": true
   },
   "outputs": [],
   "source": [
    "import re"
   ]
  },
  {
   "cell_type": "markdown",
   "metadata": {},
   "source": [
    "### Funciones"
   ]
  },
  {
   "cell_type": "markdown",
   "metadata": {},
   "source": [
    "**re.search(expresion, string)**: devuelve un Match Object si encuentra el resultado, None si no.  \n",
    "**re.findall(expresion, string)**: devuelve una lista de ocurrencias de expresion en string, empty si no."
   ]
  },
  {
   "cell_type": "code",
   "execution_count": null,
   "metadata": {},
   "outputs": [],
   "source": [
    "re.search('SA','CT ROCA SA')"
   ]
  },
  {
   "cell_type": "code",
   "execution_count": null,
   "metadata": {},
   "outputs": [],
   "source": [
    "re.search('SA','CT ROCA SA') != None"
   ]
  },
  {
   "cell_type": "code",
   "execution_count": null,
   "metadata": {},
   "outputs": [],
   "source": [
    "re.search('SA','C.T. SALTA (TERMOANDES)') != None"
   ]
  },
  {
   "cell_type": "code",
   "execution_count": null,
   "metadata": {},
   "outputs": [],
   "source": [
    "re.findall('S','C.T. SALTA (TERMOANDES)')"
   ]
  },
  {
   "cell_type": "markdown",
   "metadata": {},
   "source": [
    "### Caracteres y rangos"
   ]
  },
  {
   "cell_type": "markdown",
   "metadata": {},
   "source": [
    "**'abc'**: string específico  \n",
    "**[abc]**: caracteres individuales  \n",
    "**[a-c]**: rango de caracteres  \n",
    "  \n",
    "Aplica igual para números.  \n",
    "  \n",
    "**'12345'**: string específico  \n",
    "**[12345]**: caracteres individuales  \n",
    "**[1-5]**: rango de caracteres\n",
    "  \n",
    "Se pueden combinar:  \n",
    "**[a-c1-5]** = [abc112345]  \n"
   ]
  },
  {
   "cell_type": "markdown",
   "metadata": {},
   "source": [
    "### Metacaracteres"
   ]
  },
  {
   "cell_type": "markdown",
   "metadata": {},
   "source": [
    "**\" . \"**: comodín para cualquier caracter \t\n",
    "**\" ^ \"**: para indicar que el substring debe estar al comienzo del string \"^Comienza string\"  \n",
    "**\" \\$: \"** para indicar que el substring debe estar al comienzo del string \"final de string$\"  \n",
    "\" \\* \"*: el substring ocurre cero o más veces \"substring * \"  \n",
    "**\" + \"**: substring ocurre una o más veces \"substring+\"  \n",
    "**{n}**: ocurre exactamente n veces\t\"substring{2}\"  \n",
    "**\\ **: para una secuencia especial  \n",
    "**[ ]**: un conjunto de caracteres \"[a-c]\"   \t"
   ]
  },
  {
   "cell_type": "markdown",
   "metadata": {},
   "source": [
    "### Secuencia especial"
   ]
  },
  {
   "cell_type": "markdown",
   "metadata": {},
   "source": [
    "**\\d**: match cuando el string contiene digitos (equivalente a [0-9]  \n",
    "**\\D**: match cuando el string NO contiene digitos  \n",
    "**\\s**: match cuando el string contiene un espacio en blanco  \n",
    "**\\S**: match cuando el string NO contiene un espacio en blanco  \n",
    "**\\w**: match cuando el string contiene caracteres de alfanuméricos o \"\\_\"  \n",
    "**\\W**: match cuando el string NO contiene caracteres de alfanuméricos o \"\\_\"  "
   ]
  },
  {
   "cell_type": "markdown",
   "metadata": {},
   "source": [
    "### Veamos un ejemplo para identificar los nombres de agente que terminan en \"S.A.\""
   ]
  },
  {
   "cell_type": "code",
   "execution_count": null,
   "metadata": {},
   "outputs": [],
   "source": [
    "expresion = 'S''A'\n",
    "re.search(expresion,'CT ROCA SA') #Salta"
   ]
  },
  {
   "cell_type": "code",
   "execution_count": null,
   "metadata": {},
   "outputs": [],
   "source": [
    "expresion = '\\sSA'\n",
    "re.search(expresion,'CT ROCA SA') #Salta"
   ]
  },
  {
   "cell_type": "code",
   "execution_count": null,
   "metadata": {},
   "outputs": [],
   "source": [
    "expresion = '\\sSA'\n",
    "re.search(expresion,'CT SALTA SA')"
   ]
  },
  {
   "cell_type": "code",
   "execution_count": null,
   "metadata": {},
   "outputs": [],
   "source": [
    "expresion = '\\sSA$'\n",
    "re.search(expresion,'CT SALTA SA')"
   ]
  },
  {
   "cell_type": "code",
   "execution_count": null,
   "metadata": {},
   "outputs": [],
   "source": [
    "expresion = '\\sSA$'\n",
    "print(re.search(expresion,'CT SALTA S.A.'))"
   ]
  },
  {
   "cell_type": "code",
   "execution_count": null,
   "metadata": {},
   "outputs": [],
   "source": [
    "expresion = '\\sS.A.$'\n",
    "print(re.search(expresion,'CT SALTA S.A.'))"
   ]
  },
  {
   "cell_type": "code",
   "execution_count": null,
   "metadata": {},
   "outputs": [],
   "source": [
    "expresion = '\\sS.A.$'\n",
    "print(re.search(expresion,'CT SALTA S.A'))"
   ]
  },
  {
   "cell_type": "code",
   "execution_count": null,
   "metadata": {
    "collapsed": true
   },
   "outputs": [],
   "source": []
  },
  {
   "cell_type": "code",
   "execution_count": null,
   "metadata": {
    "collapsed": true
   },
   "outputs": [],
   "source": []
  },
  {
   "cell_type": "code",
   "execution_count": null,
   "metadata": {
    "collapsed": true
   },
   "outputs": [],
   "source": []
  },
  {
   "cell_type": "code",
   "execution_count": null,
   "metadata": {
    "collapsed": true
   },
   "outputs": [],
   "source": []
  },
  {
   "cell_type": "code",
   "execution_count": null,
   "metadata": {
    "collapsed": true
   },
   "outputs": [],
   "source": []
  },
  {
   "cell_type": "code",
   "execution_count": null,
   "metadata": {
    "collapsed": true
   },
   "outputs": [],
   "source": []
  },
  {
   "cell_type": "code",
   "execution_count": null,
   "metadata": {},
   "outputs": [],
   "source": [
    "expresion = '\\sS[.*]A[.*]$'\n",
    "print(re.search(expresion,'CT SALTA S.A.'))"
   ]
  },
  {
   "cell_type": "markdown",
   "metadata": {},
   "source": [
    "## (3) Fuzzy matching"
   ]
  },
  {
   "cell_type": "code",
   "execution_count": null,
   "metadata": {},
   "outputs": [],
   "source": [
    "df['fuente_generacion'].value_counts()"
   ]
  },
  {
   "cell_type": "markdown",
   "metadata": {},
   "source": [
    "### Distancias entre strings (Levenshtein Distance)\n",
    "Es la cantidad mínima de caracteres que deben editarse en un string para equipararlo a otro. Un aedición puede ser una inserción, una eliminación o una substitución.  \n",
    "  \n",
    "fuzzywuzzy es una librería de Python que tiene funciones para medir distancias. Estima la distancia y devuelve un indicador de similitud entre 0 (menor similitud) y 100 (máxima similitud). \n"
   ]
  },
  {
   "cell_type": "markdown",
   "metadata": {},
   "source": [
    "Documentación (es algo básica): https://github.com/seatgeek/fuzzywuzzy"
   ]
  },
  {
   "cell_type": "code",
   "execution_count": null,
   "metadata": {
    "collapsed": true
   },
   "outputs": [],
   "source": [
    "from fuzzywuzzy import fuzz"
   ]
  },
  {
   "cell_type": "code",
   "execution_count": null,
   "metadata": {},
   "outputs": [],
   "source": [
    "# Simple Ratio\n",
    "fuzz.ratio(\"Energía Termica\", \"Energía Térmica\")"
   ]
  },
  {
   "cell_type": "code",
   "execution_count": null,
   "metadata": {},
   "outputs": [],
   "source": [
    "# Partial Ratio\n",
    "fuzz.partial_ratio(\"Energía Termica\", \"La Energía Térmica es la más común\")"
   ]
  },
  {
   "cell_type": "code",
   "execution_count": null,
   "metadata": {},
   "outputs": [],
   "source": [
    "# Token set ratio\n",
    "fuzz.token_sort_ratio(\"La Energía Térmica es la más común\", \"La más común es Energía Térmica la\")"
   ]
  },
  {
   "cell_type": "code",
   "execution_count": null,
   "metadata": {},
   "outputs": [],
   "source": [
    "# Token set ratio\n",
    "fuzz.token_set_ratio(\"La Energía Térmica es la más común\", \"La más más común es Energía Térmica la la \")"
   ]
  },
  {
   "cell_type": "code",
   "execution_count": null,
   "metadata": {
    "collapsed": true
   },
   "outputs": [],
   "source": [
    "from fuzzywuzzy import process"
   ]
  },
  {
   "cell_type": "code",
   "execution_count": null,
   "metadata": {
    "collapsed": true
   },
   "outputs": [],
   "source": [
    "?process.extractOne"
   ]
  },
  {
   "cell_type": "code",
   "execution_count": null,
   "metadata": {
    "collapsed": true
   },
   "outputs": [],
   "source": [
    "fuentes_validas = ['Térmica','Renovable','Hidráulica','Nuclear']"
   ]
  },
  {
   "cell_type": "code",
   "execution_count": null,
   "metadata": {},
   "outputs": [],
   "source": [
    "process.extractOne(\"Temica\", fuentes_validas)"
   ]
  },
  {
   "cell_type": "code",
   "execution_count": null,
   "metadata": {
    "collapsed": true
   },
   "outputs": [],
   "source": [
    "process.extractOne(\"Temica\", fuentes_validas)[0]"
   ]
  },
  {
   "cell_type": "markdown",
   "metadata": {},
   "source": [
    "Retomemos nuestro problema:"
   ]
  },
  {
   "cell_type": "code",
   "execution_count": null,
   "metadata": {},
   "outputs": [],
   "source": [
    "df['fuente_generacion'].value_counts()"
   ]
  },
  {
   "cell_type": "code",
   "execution_count": null,
   "metadata": {
    "collapsed": true
   },
   "outputs": [],
   "source": [
    "def limpiar_fuente(fuente_generacion):\n",
    "    '''\n",
    "    Función toma como imput un string que identifica (mal escrito)\n",
    "    una fuente de generación eléctrica y la reemplaza por la fuente\n",
    "    válida más parecida.\n",
    "    '''\n",
    "    \n",
    "    # indicar fuentes válida\n",
    "    fuentes_validas = ['Térmica','Renovable','Hidráulica','Nuclear']\n",
    "    \n",
    "    fuente_procesada = process.extractOne(fuente_generacion, fuentes_validas)[0]\n",
    "    \n",
    "    return fuente_procesada"
   ]
  },
  {
   "cell_type": "code",
   "execution_count": null,
   "metadata": {},
   "outputs": [],
   "source": [
    "df['fuente_generacion'] = df['fuente_generacion'].apply(limpiar_fuente)"
   ]
  },
  {
   "cell_type": "markdown",
   "metadata": {
    "id": "59PJh-FGsP9g"
   },
   "source": [
    "## (4) Repaso matplotlib"
   ]
  },
  {
   "cell_type": "code",
   "execution_count": null,
   "metadata": {
    "collapsed": true,
    "id": "WwqIpOC_sP9h"
   },
   "outputs": [],
   "source": [
    "import matplotlib.pyplot as plt"
   ]
  },
  {
   "cell_type": "code",
   "execution_count": null,
   "metadata": {
    "collapsed": true,
    "id": "lBYwp72NsP9v"
   },
   "outputs": [],
   "source": [
    "# la siguiente linea de código hace que los gráficos se muestren en el mismo notebook (y no en una ventana nueva)\n",
    "%matplotlib inline\n",
    "# es una configuración de jupyter notebook"
   ]
  },
  {
   "cell_type": "markdown",
   "metadata": {},
   "source": [
    "### Preparamos los datos"
   ]
  },
  {
   "cell_type": "code",
   "execution_count": null,
   "metadata": {},
   "outputs": [],
   "source": [
    "df.sample(3)"
   ]
  },
  {
   "cell_type": "code",
   "execution_count": null,
   "metadata": {
    "id": "BQPpEHl2sP-A",
    "outputId": "a9607410-79f8-4b6b-d01b-7278e03fd6e9"
   },
   "outputs": [],
   "source": [
    "# agregamos a nivel de tipo de fuente\n",
    "df_fuente = df.groupby(by=[\"periodo\",\"fuente_generacion\"]).agg({\"potencia_instalada_mw\":\"sum\"})\n",
    "df_fuente.reset_index(inplace=True)\n",
    "df_fuente.sample(5)"
   ]
  },
  {
   "cell_type": "markdown",
   "metadata": {},
   "source": [
    "Veamos esta columna de tiempo"
   ]
  },
  {
   "cell_type": "code",
   "execution_count": null,
   "metadata": {},
   "outputs": [],
   "source": [
    "df_fuente['periodo']"
   ]
  },
  {
   "cell_type": "markdown",
   "metadata": {},
   "source": [
    "Para cambiar de string a datetime podemos usar pd.to_datime()  \n",
    "Para especificar formato ver: https://docs.python.org/3/library/datetime.html#strftime-and-strptime-behavior"
   ]
  },
  {
   "cell_type": "code",
   "execution_count": null,
   "metadata": {},
   "outputs": [],
   "source": [
    "pd.to_datetime(df_fuente['periodo'],format=\"%d/%m/%Y %H:%M\")"
   ]
  },
  {
   "cell_type": "markdown",
   "metadata": {},
   "source": [
    "Para transformar y realizar operaciones sobre datos de tiempo podemos usar la librería datetime."
   ]
  },
  {
   "cell_type": "code",
   "execution_count": null,
   "metadata": {
    "collapsed": true
   },
   "outputs": [],
   "source": [
    "import datetime"
   ]
  },
  {
   "cell_type": "code",
   "execution_count": null,
   "metadata": {},
   "outputs": [],
   "source": [
    "pd.to_datetime(df_fuente['periodo'],format=\"%d/%m/%Y %H:%M\").dt.strftime(\"%Y-%m\")"
   ]
  },
  {
   "cell_type": "code",
   "execution_count": null,
   "metadata": {
    "collapsed": true
   },
   "outputs": [],
   "source": [
    "df_fuente['periodo'] = pd.to_datetime(\n",
    "    df_fuente['periodo'],format=\"%d/%m/%Y %H:%M\").dt.strftime(\"%Y-%m\")"
   ]
  },
  {
   "cell_type": "code",
   "execution_count": null,
   "metadata": {},
   "outputs": [],
   "source": [
    "df_fuente.sort_values(by='periodo', ascending=True, inplace=True)"
   ]
  },
  {
   "cell_type": "code",
   "execution_count": null,
   "metadata": {},
   "outputs": [],
   "source": [
    "df_fuente"
   ]
  },
  {
   "cell_type": "code",
   "execution_count": null,
   "metadata": {
    "collapsed": true,
    "id": "rD28nOKqsP-G"
   },
   "outputs": [],
   "source": [
    "# defino vectores de datos para serie 1\n",
    "y1 = df_fuente[df_fuente[\"fuente_generacion\"]==\"Renovable\"][\"potencia_instalada_mw\"]\n",
    "x1 = df_fuente[df_fuente[\"fuente_generacion\"]==\"Renovable\"][\"periodo\"]\n",
    "# defino vectores de datos para serie 2\n",
    "y2 = df_fuente[df_fuente[\"fuente_generacion\"]==\"Térmica\"][\"potencia_instalada_mw\"]\n",
    "x2 = df_fuente[df_fuente[\"fuente_generacion\"]==\"Térmica\"][\"periodo\"]"
   ]
  },
  {
   "cell_type": "markdown",
   "metadata": {
    "id": "zNxg0_4psP-R"
   },
   "source": [
    "### Ejemplo 1"
   ]
  },
  {
   "cell_type": "code",
   "execution_count": null,
   "metadata": {
    "id": "28firAFxsP-U",
    "outputId": "4a291a42-d5db-471c-ddc6-fc1b9dc0c3c4"
   },
   "outputs": [],
   "source": [
    "# creo el grafico\n",
    "plt.plot(x1,y1, label='Renovable') # serie 1\n",
    "plt.plot(x2, y2, label='Térmica') # serie 2 sobre mismos ejes\n",
    "\n",
    "# modifico labels\n",
    "plt.xlabel('Periodo')\n",
    "plt.ylabel('Potencia Instalada (MW)')\n",
    "\n",
    "plt.title(\"Producción Energética Argentina Según Fuente\")\n",
    "# agrego leyenda\n",
    "plt.legend()\n",
    "plt.show() #esto es necesario para visualizar"
   ]
  },
  {
   "cell_type": "markdown",
   "metadata": {},
   "source": [
    "### Lo podemos mejorar"
   ]
  },
  {
   "cell_type": "code",
   "execution_count": null,
   "metadata": {
    "collapsed": true
   },
   "outputs": [],
   "source": [
    "tick_list = [\n",
    "    '2015-12',\n",
    "    '2016-03','2016-06','2016-09','2016-12',\n",
    "    '2017-03','2017-06','2017-09','2017-12',\n",
    "    '2018-03','2018-06','2018-09','2018-12']"
   ]
  },
  {
   "cell_type": "code",
   "execution_count": null,
   "metadata": {},
   "outputs": [],
   "source": [
    "# creo el grafico\n",
    "plt.plot(x1,y1, label='Renovable', linestyle='--', linewidth=3) # serie 1\n",
    "plt.plot(x2, y2, label='Térmica', linestyle='-.', linewidth=3) # serie 2 sobre mismos ejes\n",
    "\n",
    "# modifico labels\n",
    "plt.xlabel('Periodo',color='darkgrey')\n",
    "plt.ylabel('Potencia Instalada (MW)',color='darkgrey')\n",
    "plt.xticks(tick_list, rotation=45, horizontalalignment=\"right\")\n",
    "\n",
    "# agregamos linea horizontal con potencia termica promedio\n",
    "y2_promedio = y2.mean()\n",
    "plt.axhline(y2_promedio,\n",
    "    alpha=0.8, color='orange', \n",
    "    linestyle=':',linewidth=2)\n",
    "\n",
    "# escribo sobre el gráfico\n",
    "plt.annotate('Promedio', ('2018-06', y2_promedio-1400), color='orange')\n",
    "\n",
    "# apagamos los \"spines\"\n",
    "# plt.gca() trae las propiedades del current axes\n",
    "plt.gca().spines['top'].set_visible(False) \n",
    "plt.gca().spines['right'].set_visible(False)\n",
    "\n",
    "plt.title(\"Producción Energética Argentina\",\n",
    "          fontdict={\n",
    "              'size':16,\n",
    "              'color': 'darkred',\n",
    "              'weight': 'bold'\n",
    "          })\n",
    "# agrego leyenda\n",
    "plt.legend()\n",
    "plt.show() #esto es necesario para visualizar"
   ]
  },
  {
   "cell_type": "markdown",
   "metadata": {},
   "source": [
    "Acá link a un post donde explica comandos simples para mejorar los gráficos:  \n",
    "https://towardsdatascience.com/simple-ways-to-improve-your-matplotlib-b64eebccfd5"
   ]
  },
  {
   "cell_type": "markdown",
   "metadata": {
    "id": "r76mABOEsP_E"
   },
   "source": [
    "## (5) Introducción a ipywidgets"
   ]
  },
  {
   "cell_type": "markdown",
   "metadata": {},
   "source": [
    "Tiene buena documentación:  \n",
    "https://ipywidgets.readthedocs.io/en/latest/examples/Widget%20Basics.html#What-are-widgets?"
   ]
  },
  {
   "cell_type": "code",
   "execution_count": null,
   "metadata": {
    "collapsed": true,
    "id": "Npxp77GesP_F"
   },
   "outputs": [],
   "source": [
    "# librerias necesarias\n",
    "import matplotlib.pyplot as plt\n",
    "from PIL import Image\n",
    "import ipywidgets as widgets\n",
    "from IPython.display import display"
   ]
  },
  {
   "cell_type": "markdown",
   "metadata": {},
   "source": [
    "### Veamos un ejemplo simple"
   ]
  },
  {
   "cell_type": "code",
   "execution_count": null,
   "metadata": {
    "id": "C0AcFf7IsP_g",
    "outputId": "54cb6bd2-c6e9-48ee-eccc-c6ff0d459269"
   },
   "outputs": [],
   "source": [
    "lista_fuentes = list(set(df_fuente['fuente_generacion']))\n",
    "lista_fuentes"
   ]
  },
  {
   "cell_type": "code",
   "execution_count": null,
   "metadata": {
    "colab": {
     "referenced_widgets": [
      "97bbed739d7f496d9898d0cd35fe8940"
     ]
    },
    "id": "ybo0snDVsP_o",
    "outputId": "8345a3b0-c777-40fc-ea25-9820958f6664"
   },
   "outputs": [],
   "source": [
    "# Imprimimos una instrucción para que acompañe el widget\n",
    "print(\"Seleccionar Fuente:\")\n",
    "\n",
    "# creamos widget llamado dropdown_fuente\n",
    "dropdown_fuente = widgets.Dropdown(\n",
    "    options=['Renovable', 'Nuclear', 'Hidráulica', 'Térmica'],\n",
    "    value='Nuclear',\n",
    "    description='Fuente:',\n",
    "    disabled=False)\n",
    "\n",
    "# ejecutamos un display para visualizarlo\n",
    "display(dropdown_fuente)"
   ]
  },
  {
   "cell_type": "code",
   "execution_count": null,
   "metadata": {},
   "outputs": [],
   "source": [
    "dropdown_fuente.value"
   ]
  },
  {
   "cell_type": "code",
   "execution_count": null,
   "metadata": {
    "id": "8qZy6DnNsP_w"
   },
   "outputs": [],
   "source": [
    "# Otro ejemplo, esta vez range slider de fechas\n",
    "fechas = list(set(df_fuente['periodo']))\n",
    "fechas.sort()"
   ]
  },
  {
   "cell_type": "code",
   "execution_count": null,
   "metadata": {
    "colab": {
     "referenced_widgets": [
      "ad9126b14a78414b961f0f4f0326914d"
     ]
    },
    "id": "yyGQm42LsP_9",
    "outputId": "36a20c2f-c45d-4831-e60d-89cbbc804eb1"
   },
   "outputs": [],
   "source": [
    "# Creamos el widget\n",
    "select_fecha = widgets.SelectionRangeSlider(\n",
    "    options=fechas,\n",
    "    index=(0, 17),\n",
    "    description='Fechas',\n",
    "    disabled=False\n",
    ")\n",
    "\n",
    "# display widget\n",
    "display(select_fecha)"
   ]
  },
  {
   "cell_type": "code",
   "execution_count": null,
   "metadata": {},
   "outputs": [],
   "source": [
    "pd.to_datetime(df_fuente['periodo'],format=\"%Y-%m\").dt.strftime(\"'%y-%m\")"
   ]
  },
  {
   "cell_type": "code",
   "execution_count": null,
   "metadata": {
    "collapsed": true
   },
   "outputs": [],
   "source": [
    "# Arreglamos la fecha\n",
    "df_fuente['periodo'] = pd.to_datetime(df_fuente['periodo'],format=\"%Y-%m\").dt.strftime(\"'%y-%m\")\n",
    "fechas = list(set(df_fuente['periodo']))\n",
    "fechas.sort()"
   ]
  },
  {
   "cell_type": "code",
   "execution_count": null,
   "metadata": {
    "id": "tfiNB9QesQAI",
    "outputId": "ec69ab55-52cb-4fe8-dd70-4e5b40f12cfb"
   },
   "outputs": [],
   "source": [
    "# Creamos el widget\n",
    "select_fecha = widgets.SelectionRangeSlider(\n",
    "    options=fechas,\n",
    "    index=(0, 17),\n",
    "    description='Fechas',\n",
    "    disabled=False\n",
    ")\n",
    "\n",
    "# display widget\n",
    "display(select_fecha)"
   ]
  },
  {
   "cell_type": "code",
   "execution_count": null,
   "metadata": {
    "id": "g-MkJEPtsQAO",
    "outputId": "38218dc4-0359-456e-92da-359bde09e3b8"
   },
   "outputs": [],
   "source": [
    "select_fecha.value"
   ]
  },
  {
   "cell_type": "markdown",
   "metadata": {},
   "source": [
    "### Los juntamos en un \"panel\""
   ]
  },
  {
   "cell_type": "code",
   "execution_count": null,
   "metadata": {
    "id": "QsRgX0trsQAp"
   },
   "outputs": [],
   "source": [
    "# widget 1\n",
    "lista_fuentes = list(set(df_fuente['fuente_generacion']))\n",
    "# Seleccionar tipo de fuente\n",
    "print(\"Seleccionar Fuente:\")\n",
    "\n",
    "dropdown_fuente = widgets.Dropdown(\n",
    "    options=['Renovable', 'Nuclear', 'Hidráulica', 'Térmica'],\n",
    "    value='Nuclear',\n",
    "    description='Fuente:',\n",
    "    disabled=False)\n",
    "\n",
    "display(dropdown_fuente)\n",
    "\n",
    "# widget 2\n",
    "fechas = list(set(df_fuente['periodo']))\n",
    "fechas.sort()\n",
    "\n",
    "print(\"Seleccionar rango de fechas:\")\n",
    "select_fecha = widgets.SelectionRangeSlider(\n",
    "    options=fechas,\n",
    "    index=(0, 17),\n",
    "    description='Fechas',\n",
    "    disabled=False\n",
    ")\n",
    "display(select_fecha)"
   ]
  },
  {
   "cell_type": "markdown",
   "metadata": {},
   "source": [
    "### Ahora graficamos a partir de esos parámetros"
   ]
  },
  {
   "cell_type": "code",
   "execution_count": null,
   "metadata": {
    "colab": {
     "referenced_widgets": [
      "376961c9d24e444ebc297308255b7e09",
      "8a66e66cc44d4034ba202cd57e9e4a7e"
     ]
    },
    "id": "8wduBbE-sQAv",
    "outputId": "8c082d80-cb94-4464-f377-9a2c4aee2755"
   },
   "outputs": [],
   "source": [
    "#PARA USAR ESOS VALORES PONER ej: n.value o mark.value\n",
    "df_temp =  df_fuente[df_fuente['fuente_generacion'] == dropdown_fuente.value].copy()\n",
    "df_temp['periodo'] = pd.to_datetime(df_temp['periodo'],format=\"'%y-%m\")\n",
    "\n",
    "# extraigo objeto fecha de string\n",
    "fecha_min = datetime.datetime.strptime(select_fecha.value[0], \"'%y-%m\") \n",
    "fecha_max = datetime.datetime.strptime(select_fecha.value[1], \"'%y-%m\")\n",
    "\n",
    "# filtro base\n",
    "df_temp = df_temp[(df_temp['periodo']>fecha_min)&(df_temp['periodo']<fecha_max)]\n",
    "\n",
    "print(\"Evolución de la potencia instalada de fuente: {}\".format(dropdown_fuente.value))\n",
    "# creo el grafico\n",
    "plt.plot(df_temp['periodo'],df_temp['potencia_instalada_mw'], label=dropdown_fuente.value) \n",
    "# modifico labels\n",
    "plt.xlabel('Periodo')\n",
    "plt.xticks(rotation=45)\n",
    "plt.ylabel('Potencia Instalada (MW)')\n",
    "\n",
    "# agrego leyenda\n",
    "plt.legend()\n",
    "plt.show()"
   ]
  },
  {
   "cell_type": "code",
   "execution_count": null,
   "metadata": {
    "collapsed": true,
    "id": "PcGacRQXsQA9"
   },
   "outputs": [],
   "source": []
  }
 ],
 "metadata": {
  "anaconda-cloud": {},
  "colab": {
   "name": "Clase 4 - asincronica.ipynb",
   "provenance": []
  },
  "kernelspec": {
   "display_name": "Python [py36]",
   "language": "python",
   "name": "Python [py36]"
  },
  "language_info": {
   "codemirror_mode": {
    "name": "ipython",
    "version": 3
   },
   "file_extension": ".py",
   "mimetype": "text/x-python",
   "name": "python",
   "nbconvert_exporter": "python",
   "pygments_lexer": "ipython3",
   "version": "3.6.5"
  }
 },
 "nbformat": 4,
 "nbformat_minor": 1
}
