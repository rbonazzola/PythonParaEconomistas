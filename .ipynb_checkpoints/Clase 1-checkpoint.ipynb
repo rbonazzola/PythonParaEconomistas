{
 "cells": [
  {
   "cell_type": "markdown",
   "metadata": {},
   "source": [
    "# Taller Introducción a la Programación en Python\n",
    "## Bienvenidos a la clase 1\n",
    "\n",
    "### (0) Anuncios y temas generales\n",
    "\n",
    "- Uso de Slack\n",
    "- Dinamica para hacer preguntas durante Zoom\n",
    "- Los por qué de: enseñar las bases de Python, los ejercicios y usar recursos de internet\n",
    "- Sobre las respuestas al cuestionario de bienvenida\n",
    "- Accesibilidad\n",
    "- GitHub\n",
    "- Consola y Editor de Texto \n",
    "- IDE\n",
    "- Jupyter Notebook"
   ]
  },
  {
   "cell_type": "markdown",
   "metadata": {},
   "source": [
    "### (1) Conozcamos un poco sobre Jupyter Notebook\n",
    "\n",
    "Un Jupyter Notebook permite combinar bloques, o **celdas**, de texto con bloques de código en un mismo archivo (.ipynb). Una vez que aprendemos a manejarlo, es muy amigable para trabajar, sobre todo en lo que es armado, limpieza y análisis de bases de datos. \n",
    "\n",
    "Las celdas pueden ser de texto (_markdown_) o de código.\n",
    "\n",
    "Al seleccionar una celda con el mouse van a ver que el margen izquierdo es azul o verde. Cuando está verde uno puede editar la celda y moverse dentro de ella. Cuando está azul uno no puede editar la celda pero puede moverse entre celdas, agregar nuevas y eliminarlas.\n",
    "\n",
    "Para navegar entre celdas (margen azul) se puede usar las flechas del teclado. Una vez seleccionada la celda que queremos trabajar, apretando enter entramos a modo edición (verde). Apretando \"esc\" volvemos a modo navegación (azul).\n",
    "\n",
    "Para agregar celdas, posicionarse en la celda de referencia (margen azul). Con la tecla \"a\" se crea una celda nueva vacía sobre la actual. Con la tecla \"b\" se crea una celda nueva vacía debajo de la actual. Con la tecla \"x\" se elimina la celda que tenemos seleccionada.\n",
    "\n",
    "Para definir que una celda sea de texto, seleccionarla (margen azul) y apretar la tecla \"m\". Para definir que una celda sea de código, apretar la tecla \"y\". Se puede modifica en cualquier momento usando esas teclas (las celdas tienen propiedades distintas según sea el caso).\n",
    "\n",
    "A diferencia de la consola, con poner \"enter\" después de una línea de código el mismo no se ejecuta. En Jupyter Notebook el código no se ejecuta por líneas individuales, sino por celdas. Para ejecutar una celda se puede hacer:\n",
    "\"shift\" + \"enter\": corre el código y pasa a la celda de abajo\n",
    "\"ctrl\" + \"enter\": corre el código y se mantiene en la misma celda"
   ]
  },
  {
   "cell_type": "markdown",
   "metadata": {},
   "source": [
    "### (2) Repaso de la clase asincrónica\n",
    "\n",
    "¿Cómo funcionó la dinámica de los videos?\n",
    "\n",
    "¿Pudieron seguir de forma activa?"
   ]
  },
  {
   "cell_type": "markdown",
   "metadata": {},
   "source": [
    "#### (2.1) Tipos de datos\n",
    "##### Numéricos\n",
    "* Enteros (integer)\n",
    "* Coma flotante (float)\n",
    "\n",
    "##### Texto\n",
    "* Caracteres \n",
    "* Cadena de caracteres\n",
    "\n",
    "##### Otros\n",
    "* Lógicos\n",
    "* Listas"
   ]
  },
  {
   "cell_type": "markdown",
   "metadata": {},
   "source": [
    "#### (2.2) Operaciones básicas\n",
    "##### Suma y resta"
   ]
  },
  {
   "cell_type": "code",
   "execution_count": null,
   "metadata": {
    "collapsed": true
   },
   "outputs": [],
   "source": [
    "17 + 5\n",
    "10 + 8"
   ]
  },
  {
   "cell_type": "code",
   "execution_count": null,
   "metadata": {
    "collapsed": true
   },
   "outputs": [],
   "source": [
    "98-17.004"
   ]
  },
  {
   "cell_type": "markdown",
   "metadata": {},
   "source": [
    "##### Multiplicación y división"
   ]
  },
  {
   "cell_type": "code",
   "execution_count": null,
   "metadata": {
    "collapsed": true
   },
   "outputs": [],
   "source": [
    "100 / 25/2"
   ]
  },
  {
   "cell_type": "code",
   "execution_count": null,
   "metadata": {
    "collapsed": true
   },
   "outputs": [],
   "source": [
    "9* 6 * 3"
   ]
  },
  {
   "cell_type": "markdown",
   "metadata": {},
   "source": [
    "##### Exponencial"
   ]
  },
  {
   "cell_type": "code",
   "execution_count": null,
   "metadata": {
    "collapsed": true
   },
   "outputs": [],
   "source": [
    "4**4"
   ]
  },
  {
   "cell_type": "markdown",
   "metadata": {},
   "source": [
    "##### División entera"
   ]
  },
  {
   "cell_type": "code",
   "execution_count": null,
   "metadata": {
    "collapsed": true
   },
   "outputs": [],
   "source": [
    "20//3"
   ]
  },
  {
   "cell_type": "markdown",
   "metadata": {},
   "source": [
    "##### Módulo"
   ]
  },
  {
   "cell_type": "code",
   "execution_count": null,
   "metadata": {
    "collapsed": true
   },
   "outputs": [],
   "source": [
    "47%22"
   ]
  },
  {
   "cell_type": "markdown",
   "metadata": {},
   "source": [
    "##### Concatenar"
   ]
  },
  {
   "cell_type": "code",
   "execution_count": null,
   "metadata": {
    "collapsed": true
   },
   "outputs": [],
   "source": [
    "\"Así se\" + \" \" + 'concatena una oraci' + 'ón'"
   ]
  },
  {
   "cell_type": "markdown",
   "metadata": {},
   "source": [
    "##### Repetir"
   ]
  },
  {
   "cell_type": "code",
   "execution_count": null,
   "metadata": {
    "collapsed": true
   },
   "outputs": [],
   "source": [
    "\"si\"*4 "
   ]
  },
  {
   "cell_type": "markdown",
   "metadata": {},
   "source": [
    "#### (2.3) Operaciones booleanas"
   ]
  },
  {
   "cell_type": "code",
   "execution_count": null,
   "metadata": {
    "collapsed": true
   },
   "outputs": [],
   "source": [
    "(15+5) == (13+7)"
   ]
  },
  {
   "cell_type": "markdown",
   "metadata": {},
   "source": [
    "### (3) Sobre equivocarse en Jupyter Notebook\n",
    "\n",
    "¿Qué pasa si nos equivocamos en el código?"
   ]
  },
  {
   "cell_type": "code",
   "execution_count": null,
   "metadata": {
    "collapsed": true
   },
   "outputs": [],
   "source": [
    "\"Me equivoqué\" + 23"
   ]
  },
  {
   "cell_type": "code",
   "execution_count": null,
   "metadata": {
    "collapsed": true
   },
   "outputs": [],
   "source": [
    "#Por ejemplo, si tengo muchas líneas\n",
    "4+5\n",
    "\n",
    "5 * 6\n",
    "\n",
    "# Y me equivocó en el medio\n",
    "\"11\" + 23\n",
    "\n",
    "# nos apunta a dónde está el error"
   ]
  },
  {
   "cell_type": "markdown",
   "metadata": {},
   "source": [
    "No pasa nada. De hecho, nos pasa seguido. Jupyter Notebook hace fácil aislar el error y revisar. Algunas cosas nos van a ayudar con los errores:\n",
    "1. Revisar sintáxis son muy comunes los errores de tipeo sobre todo.\n",
    "2. Ganar experiencia en leer los errores. Señalan la línea dónde está el error. Los errores son mucho más expresivos de lo que estamos acostumbrados con Stata.\n",
    "3. Casi siempre hay alguien a quién ya le pasó lo mismo, lo preguntó y un ser del bien le contestó en https://stackoverflow.com/. La comunidad de apoyo de Python es un diferencial importante.\n",
    "4. Leer la documentación! Como con Stata, no muy diferente: https://docs.python.org/3.8/tutorial/index.html"
   ]
  },
  {
   "cell_type": "markdown",
   "metadata": {},
   "source": [
    "### (4) Sentencias\n",
    "\n",
    "Y hasta acá llegamos en la clase sincrónica"
   ]
  },
  {
   "cell_type": "code",
   "execution_count": null,
   "metadata": {
    "collapsed": true
   },
   "outputs": [],
   "source": [
    "listado_numeros = [10 ,11 ,12 ,13]\n",
    "\n",
    "# combinamos un for loop y un if\n",
    "\n",
    "for numero in listado_numeros :\n",
    "    if numero % 2 == 0: # se acuerdan del modulo ?\n",
    "        print ( numero , \"es par\")\n",
    "    else :\n",
    "        print ( numero , \"es impar \")"
   ]
  },
  {
   "cell_type": "markdown",
   "metadata": {},
   "source": [
    "### Ahora veamos algunas cosas antes de avanzar\n",
    "\n",
    "### (5) Cast_(ear)_ y verificar tipo de dato\n",
    "\n",
    "\"Cast\" significa convertir una variable de un \"type\" a otro. Por ejemplo, covertir \"2020\" a 2020, o 2020 a 2020.0. Ahora vamos a ver como inspeccionar el tipo de dato y como convertirlo a otro (no todo tipo de dato puede ser convertido).\n",
    "\n",
    "Esto se hace con una funciones preestablecida de Python. Más adelante vamos a aprender sobre funciones en detalle, por ahora solo vamos a ver lo que necesitamos.\n",
    "\n",
    "¿Por qué es importante? \n",
    "\n",
    "Trabajando con bases de datos muy frecuentemente van a tener que convertir types de variables para poder trabajar con ellas. Python, cómo todo lenguaje formal, es sensible a los tipos de datos."
   ]
  },
  {
   "cell_type": "code",
   "execution_count": null,
   "metadata": {
    "collapsed": true
   },
   "outputs": [],
   "source": [
    "#defino una variable de prueba en formato string\n",
    "variable_prueba = '2020'\n",
    "\n",
    "# verifico que sea string\n",
    "type(variable_prueba)"
   ]
  },
  {
   "cell_type": "markdown",
   "metadata": {},
   "source": [
    "Los tipos de datos se identifican por palabras reservadas (_keywords_): str, int, float, bool.\n",
    "\n",
    "Estos son ejemplos pertinentes a esta clase, hay muchas más."
   ]
  },
  {
   "cell_type": "code",
   "execution_count": null,
   "metadata": {
    "collapsed": true
   },
   "outputs": [],
   "source": [
    "type(2020)"
   ]
  },
  {
   "cell_type": "code",
   "execution_count": null,
   "metadata": {
    "collapsed": true
   },
   "outputs": [],
   "source": [
    "type(2020.0)"
   ]
  },
  {
   "cell_type": "code",
   "execution_count": null,
   "metadata": {
    "collapsed": true
   },
   "outputs": [],
   "source": [
    "type(True)"
   ]
  },
  {
   "cell_type": "code",
   "execution_count": null,
   "metadata": {
    "collapsed": true
   },
   "outputs": [],
   "source": [
    "type(variable_prueba)==str"
   ]
  },
  {
   "cell_type": "markdown",
   "metadata": {},
   "source": [
    "Bien, ahora para cambiar el tipo de dato usamos funciones predefinidas:\n",
    "str()\n",
    "int()\n",
    "float()"
   ]
  },
  {
   "cell_type": "code",
   "execution_count": null,
   "metadata": {
    "collapsed": true
   },
   "outputs": [],
   "source": [
    "str(22)"
   ]
  },
  {
   "cell_type": "code",
   "execution_count": null,
   "metadata": {
    "collapsed": true
   },
   "outputs": [],
   "source": [
    "int(\"22\")"
   ]
  },
  {
   "cell_type": "code",
   "execution_count": null,
   "metadata": {
    "collapsed": true
   },
   "outputs": [],
   "source": [
    "float(10)"
   ]
  },
  {
   "cell_type": "code",
   "execution_count": null,
   "metadata": {
    "collapsed": true
   },
   "outputs": [],
   "source": [
    "bool(\"True\")"
   ]
  },
  {
   "cell_type": "code",
   "execution_count": null,
   "metadata": {
    "collapsed": true
   },
   "outputs": [],
   "source": [
    "# retomando nuestro ejemplo de error anterior\n",
    "\"Me equivoqué\" + str(23)\n"
   ]
  },
  {
   "cell_type": "markdown",
   "metadata": {},
   "source": [
    "### (6) Algunos comandos útiles (y necesarios para los ejercicios)\n",
    "\n"
   ]
  },
  {
   "cell_type": "markdown",
   "metadata": {},
   "source": [
    "#### (6.1) Como armar listas de números con la función range()\n",
    "\n",
    "Ya aprendimos a armar listas:"
   ]
  },
  {
   "cell_type": "code",
   "execution_count": null,
   "metadata": {
    "collapsed": true
   },
   "outputs": [],
   "source": [
    "num_list = [0,1,2,3,4,5]"
   ]
  },
  {
   "cell_type": "markdown",
   "metadata": {},
   "source": [
    "Para secuencias regulares de números (incrementos homogéneos), podemos usar la función range() para hacer lo mismo. Muy útil para loops."
   ]
  },
  {
   "cell_type": "code",
   "execution_count": null,
   "metadata": {
    "collapsed": true
   },
   "outputs": [],
   "source": [
    "# La función tiene tres partes range(start, stop, step)\n",
    "# para ver la documentación de una variable podemos hacer:\n",
    "?range()"
   ]
  },
  {
   "cell_type": "code",
   "execution_count": null,
   "metadata": {
    "collapsed": true
   },
   "outputs": [],
   "source": [
    "# Probemos\n",
    "range(0,6)"
   ]
  },
  {
   "cell_type": "markdown",
   "metadata": {},
   "source": [
    "Bueno, tecnicamente no produce una lista, sino un _range object_ que es una secuencia de números sobre la cual un loop puede iterar. Pero, aplicando una función se puede castear a una lista:"
   ]
  },
  {
   "cell_type": "code",
   "execution_count": null,
   "metadata": {
    "collapsed": true
   },
   "outputs": [],
   "source": [
    "list(range(0,6))"
   ]
  },
  {
   "cell_type": "markdown",
   "metadata": {},
   "source": [
    "Pero no es necesario hacer para un loop:"
   ]
  },
  {
   "cell_type": "code",
   "execution_count": null,
   "metadata": {
    "collapsed": true
   },
   "outputs": [],
   "source": [
    "for n in range(0,6):\n",
    "    print(n)"
   ]
  },
  {
   "cell_type": "markdown",
   "metadata": {},
   "source": [
    "Y ahora un ejemplo con pasos mayores a 1"
   ]
  },
  {
   "cell_type": "code",
   "execution_count": null,
   "metadata": {
    "collapsed": true
   },
   "outputs": [],
   "source": [
    "for n in range(10,100,20):\n",
    "    print(n)"
   ]
  },
  {
   "cell_type": "markdown",
   "metadata": {
    "collapsed": true
   },
   "source": [
    "#### (6.2) Como medir la longitud de un string con len()\n",
    "Lo último que vamos a ver es cómo usar la función len() para medir la longitud, en caracteres, de un string. Simplemente insertar la variable string dentro de los paréntesis y nos dice la longitud:"
   ]
  },
  {
   "cell_type": "code",
   "execution_count": null,
   "metadata": {
    "collapsed": true
   },
   "outputs": [],
   "source": [
    "texto = \"jupyter notebook\"\n",
    "\n",
    "len(texto)"
   ]
  }
 ],
 "metadata": {
  "anaconda-cloud": {},
  "kernelspec": {
   "display_name": "Python 3",
   "language": "python",
   "name": "python3"
  },
  "language_info": {
   "codemirror_mode": {
    "name": "ipython",
    "version": 3
   },
   "file_extension": ".py",
   "mimetype": "text/x-python",
   "name": "python",
   "nbconvert_exporter": "python",
   "pygments_lexer": "ipython3",
   "version": "3.7.6"
  }
 },
 "nbformat": 4,
 "nbformat_minor": 2
}
