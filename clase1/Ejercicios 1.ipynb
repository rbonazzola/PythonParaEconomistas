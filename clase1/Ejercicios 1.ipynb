{
 "cells": [
  {
   "cell_type": "markdown",
   "metadata": {
    "collapsed": true
   },
   "source": [
    "# Taller Introducción a la Programación en Python\n",
    "## Ejercicios Clase 1"
   ]
  },
  {
   "cell_type": "markdown",
   "metadata": {},
   "source": [
    "#### Ejercicio 1\n",
    "Este ejercicio simplemente busca repasar lo que aprendimos sobre definición de variables. Definí tres variables con un nombre combinado (al menos dos palabras): \n",
    "(a) Una siguiendo las buenas prácticas. \n",
    "(b) Hacer lo mismo de manera técnicamente correcta (sin error) pero sin seguir las buenas prácticas. \n",
    "(c) Intentar definir una variable con un nombre inacceptable (genera error)."
   ]
  },
  {
   "cell_type": "code",
   "execution_count": null,
   "metadata": {
    "collapsed": true
   },
   "outputs": [],
   "source": [
    "# Caso A\n",
    "\n",
    "\n",
    "# Caso B\n",
    "\n",
    "\n",
    "# Caso C (acá abajo debería saltar un error)\n"
   ]
  },
  {
   "cell_type": "markdown",
   "metadata": {},
   "source": [
    "#### Ejercicio 2\n",
    "Este ejercicio trata sobre la sustitución de variables y el uso de variables temporales para hacerlo. Las variables temporales y la sustitución de valores termina siendo útil en algunos loops. Los pasos a seguir son: (a) definir variables A y B (cuyos valores buscaremos invertir); (b) definir una variable temporal que hace de \"memoria\" y resguardo del valor; (c) sustitución (asignar B igual a A y también A a la variable temporal); (d) imprimir valores para verificar."
   ]
  },
  {
   "cell_type": "code",
   "execution_count": null,
   "metadata": {
    "collapsed": true
   },
   "outputs": [],
   "source": [
    "# Definir variables A y B, \n",
    "a = 1\n",
    "b = 2\n",
    "\n",
    "# definir variable temporal \"tmp\" igual a B (la variable, no el valor)\n",
    "\n",
    "\n",
    "# Ahora sustituir variables\n",
    "# variable B igual a variable A (la variable, no el valor)\n",
    "\n",
    "# variable A igual a variable \"tmp\"\n",
    "\n",
    "\n",
    "# verifiquemos resultados, imprimir variables A y B\n"
   ]
  },
  {
   "cell_type": "markdown",
   "metadata": {},
   "source": [
    "#### Ejercicio 3\n",
    "Pongamos en práctica el uso de range() en un for loop. \n",
    "\n",
    "Construir un for loop usando un range(). El range debe puede ser entre los valores que quieran (con una diferencia mínima de 15 entre start y stop), en incrementos de 3 unidades. Dentro del loop, implementar una sentencia condicional que imprimar una leyenda indicando si el input es par o impar."
   ]
  },
  {
   "cell_type": "code",
   "execution_count": null,
   "metadata": {
    "collapsed": true
   },
   "outputs": [],
   "source": []
  },
  {
   "cell_type": "markdown",
   "metadata": {},
   "source": [
    "#### Ejercicio 4\n",
    "Para practicar el uso de condiciones lógicas, construyamos una sentencia condicional que verifique si un año es bisiesto o no. Para que un año sea bisiesto debe cumplir una de dos condiciones:\n",
    "(a) sea divisible por 400 OR\n",
    "(b) sea divisible por 4 AND no sea divisible por 100\n",
    "\n",
    "Nótese que son dos condiciones, dónde la segunda condición tiene dos componentes. Prueben la sentencia con una serie de valores para verificar que funcione."
   ]
  },
  {
   "cell_type": "code",
   "execution_count": null,
   "metadata": {
    "collapsed": true
   },
   "outputs": [],
   "source": []
  },
  {
   "cell_type": "markdown",
   "metadata": {
    "collapsed": true
   },
   "source": [
    "#### Ejercicio 5\n",
    "Pongamos en práctica identificar el type() de cada variable. A continuación tenemos una lista con elementos de diferentes tipos. Construyan un for loop que itere sobre la lista e imprima un cartel indicando el tipo de dato que hay en cada caso.\n",
    "\n",
    "_Ayuda: hay por lo menos dos maneras de hacer esto. En una se usa una sentencia condicional, en otra hay que usar casteo para evitar un error. Ambas son aceptables._\n"
   ]
  },
  {
   "cell_type": "code",
   "execution_count": null,
   "metadata": {
    "collapsed": true
   },
   "outputs": [],
   "source": []
  },
  {
   "cell_type": "markdown",
   "metadata": {},
   "source": [
    "#### Ejercicio 6\n",
    "Ahora definan ustedes una lista, en la que los primeros 4 elementos sean palabras (strings) la 5ta no sea string, y la 6ta sea string. Construyan un for loop que corra por la lista y que imprima la palabra y la longitud de la misma. Que el loop contenga una sentencia condicional que imprima un cartel \"Elemento no es un string: < el elemento > | < class del elemento >\" para los casos dónde el elemento evaluado no sea string.\n",
    "\n",
    "_Comentario: más adelante vamos a aprender como manejar errores dentro del loop sin que fuerze una salida del mismo._"
   ]
  },
  {
   "cell_type": "code",
   "execution_count": null,
   "metadata": {
    "collapsed": true
   },
   "outputs": [],
   "source": []
  },
  {
   "cell_type": "markdown",
   "metadata": {},
   "source": [
    "#### Ejercicio 7\n",
    "Ahora probemos algo con un nivel más de dificultad. Argentina tiene una representación legislativa proporcional en la cual la cantidad de diputados se debería ajustar según el tamaño de población de cada provincia. Otra característica de la representación legislativa del país es que hay una cantidad mínima de diputados por provincia (5). Esto genera un desbalance en la cantidad de ciudadanos por cada representante en el Congreso entre provincias.\n",
    "\n",
    "A continuación preparamos algunos ejemplos, dividiendo la población de cada provincia (según el Censo 2010) por la cantida de representantes en el Congreso para esa misma jurisdicción. También armamos el equivalente para el total país y una lista con los valores provinciales.\n",
    "\n",
    "En este ejercicio les pedimos que construyan un for loop que itere sobre la lista definida y compare cada valor provincial contra el valor de proporcionalidad directa (la variable argentina). El loop debe imprimir una leyenda que indique si la provincia está sobrerepresentada, subrepresentada o con representación proporcional. Además, queremos que el mismo loop compare los valores de las provincias sobrerepresentadas y que guarde el valor de la provincia con mayor sobrerepresentación. Luego del loop impriman este valor así podemos ver que haya funcionado.\n",
    "\n",
    "_Ayuda: el ejercicio 2 les puede ayudar para resolver parte de este problema._\n",
    "\n",
    "Fuente para población: https://es.wikipedia.org/wiki/Demograf%C3%ADa_de_Argentina\n",
    "\n",
    "Fuente para representantes: https://es.wikipedia.org/wiki/C%C3%A1mara_de_Diputados_de_la_Naci%C3%B3n_Argentina"
   ]
  },
  {
   "cell_type": "code",
   "execution_count": 33,
   "metadata": {},
   "outputs": [],
   "source": [
    "# valor de referencia: proporcionalidad\n",
    "argentina = 40117096 / 256\n",
    "\n",
    "# creamos variables para una selección de jurisdicciones\n",
    "catamarca = 367820 / 5\n",
    "buenos_aires = 15594428 / 70\n",
    "misiones = 1097829 / 7\n",
    "tierra_fuego = 126190 / 5\n",
    "tucuman = 1592878 / 9\n",
    "\n",
    "# definimos la lista para iterar\n",
    "lista_provincias = [catamarca, buenos_aires, misiones, tierra_fuego, tucuman]"
   ]
  },
  {
   "cell_type": "code",
   "execution_count": null,
   "metadata": {
    "collapsed": true
   },
   "outputs": [],
   "source": [
    "# resuelvan acá:\n",
    "\n"
   ]
  },
  {
   "cell_type": "markdown",
   "metadata": {},
   "source": [
    "#### Ejercicio 8\n",
    "Excelente! Un último ejercicio. Si buscáramos minimizar la subrepresentación de la provincia de Buenos Aires, ¿cuántos representantes debería tener según el Censo 2010? Usemos el mismo criterio de sub/sobrerepresentacion que en el ejercicio anterior: población sobre cantidad de representantes.\n",
    "\n",
    "Para responder esta pregunta construyan un while loop que incremente de a uno la cantidad de representantes de la Provincia hasta minimizar la subrepresentación. En cada iteración impriman un cartel que diga: \"Se agregó un represntante, el total ahora es X\" dónde X es el número de representantes simulado."
   ]
  },
  {
   "cell_type": "code",
   "execution_count": 42,
   "metadata": {
    "collapsed": true
   },
   "outputs": [],
   "source": [
    "# estos son los valores de la provincia\n",
    "representantes_pba = 70\n",
    "poblacion2010_pba = 15594428\n",
    "\n",
    "\n",
    "# y el valor de referencia nacional\n",
    "argentina = 40117096 / 256"
   ]
  },
  {
   "cell_type": "code",
   "execution_count": null,
   "metadata": {
    "collapsed": true
   },
   "outputs": [],
   "source": []
  }
 ],
 "metadata": {
  "anaconda-cloud": {},
  "kernelspec": {
   "display_name": "Python [py36]",
   "language": "python",
   "name": "Python [py36]"
  },
  "language_info": {
   "codemirror_mode": {
    "name": "ipython",
    "version": 3
   },
   "file_extension": ".py",
   "mimetype": "text/x-python",
   "name": "python",
   "nbconvert_exporter": "python",
   "pygments_lexer": "ipython3",
   "version": "3.6.5"
  }
 },
 "nbformat": 4,
 "nbformat_minor": 2
}
