{
 "cells": [
  {
   "cell_type": "markdown",
   "metadata": {},
   "source": [
    "# Clase teórica 6"
   ]
  },
  {
   "cell_type": "markdown",
   "metadata": {},
   "source": [
    "En esta clase vamos a ver:\n",
    "- Cálculo numérico en Numpy\n",
    "- Aprendizaje automático\n",
    "- Aprendizaje profundo"
   ]
  },
  {
   "cell_type": "markdown",
   "metadata": {},
   "source": [
    "## Cálculo numérico en `NumPy`\n",
    "En esta sección, vamos a usar la librería `NumPy`. Para instalarla, ejecutar en la consola \n",
    "- `conda install -c anaconda numpy`, o\n",
    "- `pip install numpy`,\n",
    "\n",
    "aunque ya debería estar instalada ya que es una dependencia de `Pandas` (es decir, cuando instalaron `Pandas` se instaló también `NumPy` porque `Pandas` depende de `NumPy`)."
   ]
  },
  {
   "cell_type": "markdown",
   "metadata": {},
   "source": [
    "Una vez instalada, la importamos:"
   ]
  },
  {
   "cell_type": "code",
   "execution_count": null,
   "metadata": {},
   "outputs": [],
   "source": [
    "import numpy as np\n",
    "print(\"Tenemos instalada la versión {} de NumPy.\".format(np.__version__))"
   ]
  },
  {
   "cell_type": "markdown",
   "metadata": {},
   "source": [
    "Ejecutemos la siguiente instrucción para que cuando hagamos `print` los números aparezcan con sólo 3 decimales y sean más fáciles de leer:"
   ]
  },
  {
   "cell_type": "code",
   "execution_count": null,
   "metadata": {},
   "outputs": [],
   "source": [
    "np.set_printoptions(precision=3)"
   ]
  },
  {
   "cell_type": "markdown",
   "metadata": {},
   "source": [
    "### Arrays multidimensionales: la clase `ndarray`\n",
    "NumPy implementa una clase llamada `ndarray` (por array _n_-dimensional)."
   ]
  },
  {
   "cell_type": "markdown",
   "metadata": {},
   "source": [
    "#### Vectores, matrices y tensores"
   ]
  },
  {
   "cell_type": "markdown",
   "metadata": {},
   "source": [
    "Definimos un **vector**:"
   ]
  },
  {
   "cell_type": "code",
   "execution_count": null,
   "metadata": {},
   "outputs": [],
   "source": [
    "vector = np.array((1.,2,3,4))"
   ]
  },
  {
   "cell_type": "code",
   "execution_count": null,
   "metadata": {},
   "outputs": [],
   "source": [
    "print(vector)"
   ]
  },
  {
   "cell_type": "code",
   "execution_count": null,
   "metadata": {},
   "outputs": [],
   "source": [
    "vector.dtype"
   ]
  },
  {
   "cell_type": "code",
   "execution_count": null,
   "metadata": {},
   "outputs": [],
   "source": [
    "print(\"vector ndim: \", vector.ndim)\n",
    "print(\"vector shape:\", vector.shape)\n",
    "print(\"vector size: \", vector.size)"
   ]
  },
  {
   "cell_type": "markdown",
   "metadata": {},
   "source": [
    "Definimos una **matriz** (tensor de rango 2):"
   ]
  },
  {
   "cell_type": "code",
   "execution_count": null,
   "metadata": {},
   "outputs": [],
   "source": [
    "matriz = np.array([[1,2,3], [4,5,6]])\n",
    "print(matriz)"
   ]
  },
  {
   "cell_type": "code",
   "execution_count": null,
   "metadata": {},
   "outputs": [],
   "source": [
    "print(\"matriz ndim: \", matriz.ndim)\n",
    "print(\"matriz shape:\", matriz.shape)\n",
    "print(\"matriz size: \", matriz.size)"
   ]
  },
  {
   "cell_type": "markdown",
   "metadata": {},
   "source": [
    "Definamos un **tensor de rango 3**:"
   ]
  },
  {
   "cell_type": "code",
   "execution_count": null,
   "metadata": {},
   "outputs": [],
   "source": [
    "tensor3 = np.array([[[-1,-2], [-3,-4]], [[0,0], [0,0]], [[2,1], [1,5]]])"
   ]
  },
  {
   "cell_type": "code",
   "execution_count": null,
   "metadata": {},
   "outputs": [],
   "source": [
    "print(\"tensor3 ndim: \", tensor3.ndim)\n",
    "print(\"tensor3 shape:\", tensor3.shape)\n",
    "print(\"tensor3 size: \", tensor3.size)"
   ]
  },
  {
   "cell_type": "code",
   "execution_count": null,
   "metadata": {},
   "outputs": [],
   "source": [
    "print(tensor3)"
   ]
  },
  {
   "cell_type": "markdown",
   "metadata": {},
   "source": [
    "#### Otras formas de inicializar arrays"
   ]
  },
  {
   "cell_type": "markdown",
   "metadata": {},
   "source": [
    "Definamos un tensor de todos ceros:"
   ]
  },
  {
   "cell_type": "code",
   "execution_count": null,
   "metadata": {},
   "outputs": [],
   "source": [
    "todos_ceros = np.zeros((2,3))\n",
    "print(todos_ceros)"
   ]
  },
  {
   "cell_type": "markdown",
   "metadata": {},
   "source": [
    "Definamos un tensor de todos unos:"
   ]
  },
  {
   "cell_type": "code",
   "execution_count": null,
   "metadata": {},
   "outputs": [],
   "source": [
    "todos_unos = np.ones((2,2,3))\n",
    "print(todos_unos)"
   ]
  },
  {
   "cell_type": "markdown",
   "metadata": {},
   "source": [
    "Definamos un tensor inicialmente vacío..."
   ]
  },
  {
   "cell_type": "code",
   "execution_count": null,
   "metadata": {},
   "outputs": [],
   "source": [
    "tensor_por_filas = np.empty((4,5))\n",
    "print(tensor_por_filas) "
   ]
  },
  {
   "cell_type": "markdown",
   "metadata": {},
   "source": [
    "...y luego usemos un ciclo for para llenar las filas una a una:"
   ]
  },
  {
   "cell_type": "code",
   "execution_count": null,
   "metadata": {},
   "outputs": [],
   "source": [
    "for i in range(tensor_por_filas.shape[0]):\n",
    "    tensor_por_filas[i] = i # equivalente a tensor[i,:]\n",
    "    \n",
    "print(tensor_por_filas)"
   ]
  },
  {
   "cell_type": "markdown",
   "metadata": {},
   "source": [
    "Podemos hacer algo similar para las columnas:  "
   ]
  },
  {
   "cell_type": "code",
   "execution_count": null,
   "metadata": {},
   "outputs": [],
   "source": [
    "tensor_por_columnas = np.empty((4,3))\n",
    "for i in range(tensor_por_columnas.shape[1]):\n",
    "    tensor_por_columnas[:,i] = i # acá el : es necesario\n",
    "    \n",
    "print(tensor_por_columnas)"
   ]
  },
  {
   "cell_type": "markdown",
   "metadata": {},
   "source": [
    "Definamos un **tensor aleatorio** (más acerca de esto más adelante):"
   ]
  },
  {
   "cell_type": "code",
   "execution_count": null,
   "metadata": {},
   "outputs": [],
   "source": [
    "a = np.random.rand(2,3)\n",
    "b = np.random.rand(3,2)"
   ]
  },
  {
   "cell_type": "code",
   "execution_count": null,
   "metadata": {},
   "outputs": [],
   "source": [
    "print(a, \"\\n\\n\", b)"
   ]
  },
  {
   "cell_type": "markdown",
   "metadata": {},
   "source": [
    "### Operaciones con arrays"
   ]
  },
  {
   "cell_type": "markdown",
   "metadata": {},
   "source": [
    "#### Aritmética de arrays"
   ]
  },
  {
   "cell_type": "code",
   "execution_count": null,
   "metadata": {},
   "outputs": [],
   "source": [
    "a + b"
   ]
  },
  {
   "cell_type": "code",
   "execution_count": null,
   "metadata": {},
   "outputs": [],
   "source": [
    "a - b"
   ]
  },
  {
   "cell_type": "code",
   "execution_count": null,
   "metadata": {},
   "outputs": [],
   "source": [
    "a * b"
   ]
  },
  {
   "cell_type": "code",
   "execution_count": null,
   "metadata": {},
   "outputs": [],
   "source": [
    "a / b"
   ]
  },
  {
   "cell_type": "code",
   "execution_count": null,
   "metadata": {},
   "outputs": [],
   "source": [
    "a ** b"
   ]
  },
  {
   "cell_type": "code",
   "execution_count": null,
   "metadata": {},
   "outputs": [],
   "source": [
    "a > 0.5"
   ]
  },
  {
   "cell_type": "code",
   "execution_count": null,
   "metadata": {},
   "outputs": [],
   "source": [
    "2 * a + 3"
   ]
  },
  {
   "cell_type": "markdown",
   "metadata": {},
   "source": [
    "#### Indexado"
   ]
  },
  {
   "cell_type": "markdown",
   "metadata": {},
   "source": [
    "Indexado básico: extraer elementos individuales:"
   ]
  },
  {
   "cell_type": "code",
   "execution_count": null,
   "metadata": {},
   "outputs": [],
   "source": [
    "a[0][0]"
   ]
  },
  {
   "cell_type": "markdown",
   "metadata": {},
   "source": [
    "Indexado con booleanos (como en Pandas):"
   ]
  },
  {
   "cell_type": "code",
   "execution_count": null,
   "metadata": {},
   "outputs": [],
   "source": [
    "print(a)\n",
    "a[a > 0.5]"
   ]
  },
  {
   "cell_type": "markdown",
   "metadata": {},
   "source": [
    "Indexado con _slices_ (rebanadas):"
   ]
  },
  {
   "cell_type": "code",
   "execution_count": null,
   "metadata": {},
   "outputs": [],
   "source": [
    "a[:,1:3]"
   ]
  },
  {
   "cell_type": "markdown",
   "metadata": {},
   "source": [
    "_Fancy indexing_ :"
   ]
  },
  {
   "cell_type": "code",
   "execution_count": null,
   "metadata": {},
   "outputs": [],
   "source": [
    "a[:,[0,2]]"
   ]
  },
  {
   "cell_type": "markdown",
   "metadata": {},
   "source": [
    "### El submódulo `linalg` para álgebra lineal"
   ]
  },
  {
   "cell_type": "code",
   "execution_count": null,
   "metadata": {},
   "outputs": [],
   "source": [
    "# Esto no es necesario porque ya importamos todo numpy antes\n",
    "# Pero es lo que tendríamos que correr para importar ese submódulo en particular.\n",
    "# import numpy.linalg"
   ]
  },
  {
   "cell_type": "code",
   "execution_count": null,
   "metadata": {},
   "outputs": [],
   "source": [
    "c = a.dot(b)"
   ]
  },
  {
   "cell_type": "code",
   "execution_count": null,
   "metadata": {},
   "outputs": [],
   "source": [
    "np.linalg.inv(c).dot(c)"
   ]
  },
  {
   "cell_type": "code",
   "execution_count": null,
   "metadata": {},
   "outputs": [],
   "source": [
    "np.linalg.eigvals(c)"
   ]
  },
  {
   "cell_type": "code",
   "execution_count": null,
   "metadata": {},
   "outputs": [],
   "source": [
    "np.linalg.eigvals(np.linalg.inv(c))"
   ]
  },
  {
   "cell_type": "code",
   "execution_count": null,
   "metadata": {},
   "outputs": [],
   "source": [
    "from numpy.linalg import inv"
   ]
  },
  {
   "cell_type": "code",
   "execution_count": null,
   "metadata": {},
   "outputs": [],
   "source": [
    "inv(c).dot(c)"
   ]
  },
  {
   "cell_type": "markdown",
   "metadata": {},
   "source": [
    "### Números aleatorios: submódulo `random`"
   ]
  },
  {
   "cell_type": "code",
   "execution_count": 1,
   "metadata": {},
   "outputs": [],
   "source": [
    "import numpy.random # ídem linalg\n",
    "import matplotlib.pyplot as plt"
   ]
  },
  {
   "cell_type": "code",
   "execution_count": null,
   "metadata": {},
   "outputs": [],
   "source": [
    "import random"
   ]
  },
  {
   "cell_type": "code",
   "execution_count": null,
   "metadata": {},
   "outputs": [],
   "source": [
    "np.random.rand(2,3,4)"
   ]
  },
  {
   "cell_type": "code",
   "execution_count": null,
   "metadata": {},
   "outputs": [],
   "source": [
    "plt.hist(np.random.randn(1000000)*3+2, 1000)\n",
    "plt.show()"
   ]
  },
  {
   "cell_type": "markdown",
   "metadata": {},
   "source": [
    "## Aprendizaje automático"
   ]
  },
  {
   "cell_type": "markdown",
   "metadata": {},
   "source": [
    "En esta sección vamos a usar la librería `scikit-learn`.\n",
    "Para instalarla, basta ejecutar `conda install scikit-learn ` en la consola.\n",
    "\n",
    "`Scikit-learn` provee una serie de funcionalidades útiles para entrenar algoritmos de aprendizaje automático."
   ]
  },
  {
   "cell_type": "code",
   "execution_count": 2,
   "metadata": {},
   "outputs": [],
   "source": [
    "import sklearn"
   ]
  },
  {
   "cell_type": "markdown",
   "metadata": {},
   "source": [
    "### Aprendizaje supervisado"
   ]
  },
  {
   "cell_type": "markdown",
   "metadata": {},
   "source": [
    "#### Regresión lineal"
   ]
  },
  {
   "cell_type": "code",
   "execution_count": null,
   "metadata": {},
   "outputs": [],
   "source": [
    "import numpy as np\n",
    "from sklearn import linear_model"
   ]
  },
  {
   "cell_type": "code",
   "execution_count": null,
   "metadata": {},
   "outputs": [],
   "source": [
    "N = 1000 # Número de observaciones\n",
    "M = 3 # Número de predictores (features)\n",
    "beta = np.random.randn(M,1) * 2 # Efecto de cada predictor en la variable \"respuesta\" (Y)"
   ]
  },
  {
   "cell_type": "code",
   "execution_count": null,
   "metadata": {},
   "outputs": [],
   "source": [
    "print(beta)"
   ]
  },
  {
   "cell_type": "markdown",
   "metadata": {},
   "source": [
    "Simulemos los \"datos\", $X$, y los efectos $\\beta$ de cada predictor en la respuesta :"
   ]
  },
  {
   "cell_type": "code",
   "execution_count": null,
   "metadata": {},
   "outputs": [],
   "source": [
    "X = 2 *(np.random.random((N,M)) - 0.5) # los \"datos\" (uniforme en [-1,1])\n",
    "print(\"Datos (primeras 5 filas):\\n\", X[:5],\"\\n...\\n\")\n",
    "print(\"Efectos:\\n\",beta)"
   ]
  },
  {
   "cell_type": "code",
   "execution_count": null,
   "metadata": {},
   "outputs": [],
   "source": [
    "plt.hist(X)\n",
    "plt.show()"
   ]
  },
  {
   "cell_type": "markdown",
   "metadata": {},
   "source": [
    "Ahora simulemos las respuestas (o \"etiquetas\") $y=X\\beta+\\epsilon$, donde $\\epsilon\\sim \\mathcal{N}(0,\\sigma^2)$\n",
    "Primero, chequeemos las dimensiones:"
   ]
  },
  {
   "cell_type": "code",
   "execution_count": null,
   "metadata": {},
   "outputs": [],
   "source": [
    "y = X.dot(beta)\n",
    "print(X.shape, \"*\", beta.shape, \" = \", y.shape)"
   ]
  },
  {
   "cell_type": "code",
   "execution_count": null,
   "metadata": {},
   "outputs": [],
   "source": [
    "sigma = 1\n",
    "ruido = np.random.randn(N,1) * sigma\n",
    "y = y + ruido\n",
    "print(\"Efectos:\\n\",beta)"
   ]
  },
  {
   "cell_type": "markdown",
   "metadata": {},
   "source": [
    "Grafiquemos los datos (marginalizando respecto a todos los predictores salvo uno)"
   ]
  },
  {
   "cell_type": "code",
   "execution_count": null,
   "metadata": {},
   "outputs": [],
   "source": [
    "plt.scatter(X[:,2], y)\n",
    "plt.show()"
   ]
  },
  {
   "cell_type": "code",
   "execution_count": null,
   "metadata": {},
   "outputs": [],
   "source": [
    "from sklearn.model_selection import train_test_split\n",
    "\n",
    "X_train, X_test, y_train, y_test = train_test_split(X, y, test_size=250)"
   ]
  },
  {
   "cell_type": "code",
   "execution_count": null,
   "metadata": {},
   "outputs": [],
   "source": [
    "print(\"Tamaño del dataset de entrenamiento:\", X_train.shape[0])\n",
    "print(\"Tamaño del dataset de testeo:\", X_test.shape[0])"
   ]
  },
  {
   "cell_type": "code",
   "execution_count": null,
   "metadata": {},
   "outputs": [],
   "source": [
    "modelo = linear_model.LinearRegression()"
   ]
  },
  {
   "cell_type": "code",
   "execution_count": null,
   "metadata": {},
   "outputs": [],
   "source": [
    "modelo = modelo.fit(X_train, y_train)"
   ]
  },
  {
   "cell_type": "code",
   "execution_count": null,
   "metadata": {},
   "outputs": [],
   "source": [
    "print(\"Coeficientes reales:\\t \", beta[:,0])\n",
    "print(\"Coeficientes estimados:\\t \", modelo.coef_[0])"
   ]
  },
  {
   "cell_type": "markdown",
   "metadata": {},
   "source": [
    "Evaluemos el modelo en la partición de testeo:"
   ]
  },
  {
   "cell_type": "code",
   "execution_count": null,
   "metadata": {},
   "outputs": [],
   "source": [
    "y_pred = modelo.predict(X_test)\n",
    "print(y_pred)"
   ]
  },
  {
   "cell_type": "code",
   "execution_count": null,
   "metadata": {},
   "outputs": [],
   "source": [
    "modelo.score(X_train, y_train)"
   ]
  },
  {
   "cell_type": "markdown",
   "metadata": {},
   "source": [
    "### Aprendizaje no supervisado\n",
    "Como vimos, en aprendizaje no supervisado no tenemos \"etiquetas\", sino que tratamos de descubrir patrones en los datos."
   ]
  },
  {
   "cell_type": "markdown",
   "metadata": {},
   "source": [
    "#### Clustering\n",
    "Vamos a ver un ejemplo de un algoritmo de clustering: $k$-medias ($k$-means en inglés)."
   ]
  },
  {
   "cell_type": "markdown",
   "metadata": {},
   "source": [
    "Primero simulemos algunos datos con una estructura de clusters subyacente. Esto lo hacemos utilizando una función de scikit-learn llamada `make_blobs`:"
   ]
  },
  {
   "cell_type": "code",
   "execution_count": 13,
   "metadata": {},
   "outputs": [],
   "source": [
    "from sklearn.datasets import make_blobs\n",
    "\n",
    "X, y = make_blobs(n_samples=1000, random_state=0)"
   ]
  },
  {
   "cell_type": "code",
   "execution_count": 14,
   "metadata": {},
   "outputs": [
    {
     "data": {
      "image/png": "[encoded data removed]",
      "text/plain": [
       "<Figure size 432x288 with 1 Axes>"
      ]
     },
     "metadata": {
      "needs_background": "light"
     },
     "output_type": "display_data"
    }
   ],
   "source": [
    "plt.scatter(X[:,0], X[:,1], c=y)\n",
    "plt.show()"
   ]
  },
  {
   "cell_type": "code",
   "execution_count": 15,
   "metadata": {},
   "outputs": [
    {
     "name": "stdout",
     "output_type": "stream",
     "text": [
      "[2 0 2 2 2 1 0 0 1 0 1 2 2 0 0 1 2 1 0 0 2 1 2 0 0 0 0 0 1 1 2 2 2 0 2 1 1\n",
      " 2 1 1 1 1 0 1 1 1 1 2 0 1 0 0 1 0 0 1 1 2 2 1 2 2 2 2 0 0 1 1 2 2 0 0 0 2\n",
      " 0 2 1 0 2 2 2 0 0 0 0 0 0 1 0 1 0 1 1 2 1 2 0 1 0 2 0 2 2 1 0 0 2 0 1 1 0\n",
      " 0 0 0 2 2 0 2 0 1 0 1 2 0 0 1 2 2 2 0 0 2 0 0 2 0 0 1 2 2 0 0 0 2 2 2 0 0\n",
      " 2 0 0 2 0 0 0 2 0 1 1 2 0 0 0 0 0 0 2 0 1 1 1 2 2 2 2 0 1 0 0 2 0 0 0 1 1\n",
      " 0 2 1 2 0 1 2 1 2 2 0 0 2 1 1 0 2 1 0 0 2 2 2 1 0 2 0 0 0 1 2 0 2 0 0 2 0\n",
      " 2 2 0 1 0 0 0 2 2 1 2 1 0 1 0 1 2 2 2 2 2 2 0 2 2 0 1 1 1 1 2 2 1 0 1 0 2\n",
      " 1 0 1 1 1 0 1 2 2 2 0 2 1 2 2 2 2 0 0 2 2 1 0 1 1 1 0 2 2 1 2 0 2 1 1 1 0\n",
      " 0 1 0 1 1 1 1 2 0 0 1 0 0 0 2 0 2 0 2 1 0 1 0 1 0 1 2 0 1 2 1 2 0 1 1 2 2\n",
      " 2 0 2 0 2 0 1 0 1 1 2 1 1 0 1 0 1 0 0 2 2 1 2 0 0 0 0 1 2 1 1 2 2 0 2 0 1\n",
      " 1 1 1 0 2 1 2 0 2 2 0 2 2 1 1 2 2 1 2 1 2 2 1 0 0 2 1 2 1 1 1 0 0 0 1 2 0\n",
      " 1 1 2 0 0 2 0 2 0 1 1 1 2 0 2 1 0 0 1 2 1 1 2 0 2 0 2 2 1 2 2 1 1 0 1 0 0\n",
      " 0 2 1 0 1 2 2 1 0 1 0 0 1 0 2 1 2 2 2 1 0 2 0 0 0 0 0 0 1 0 1 0 0 0 2 2 1\n",
      " 2 2 2 1 1 1 1 2 0 1 0 2 0 1 1 1 2 0 2 0 2 2 1 1 1 1 0 2 0 1 2 1 1 1 2 1 2\n",
      " 0 2 0 0 2 1 0 1 0 1 1 2 1 2 1 2 2 0 2 1 1 0 0 0 1 0 2 2 2 0 1 0 2 1 2 0 2\n",
      " 1 0 0 0 2 1 1 0 0 1 1 1 1 2 2 0 1 2 1 1 1 0 1 0 0 1 2 2 1 0 0 0 2 1 0 2 0\n",
      " 2 0 1 2 2 2 2 2 1 1 0 1 0 2 2 0 1 0 2 2 0 1 1 1 0 0 0 1 2 2 1 2 2 2 1 0 2\n",
      " 2 2 2 2 0 0 1 1 1 2 1 1 0 0 0 0 0 2 2 2 0 1 0 2 2 0 1 2 0 2 2 2 0 1 1 1 0\n",
      " 1 1 2 0 2 1 1 0 1 2 1 2 0 1 2 0 0 0 1 1 0 2 2 2 0 2 2 1 1 0 0 1 2 1 0 0 2\n",
      " 1 2 0 1 2 1 2 0 0 0 0 1 1 2 0 1 0 2 1 1 2 1 2 1 0 2 0 1 1 0 0 2 0 0 0 1 1\n",
      " 0 0 2 1 1 2 2 1 2 1 0 0 1 1 1 0 1 1 1 0 1 0 2 2 1 1 2 2 0 1 1 1 2 0 1 0 1\n",
      " 0 2 2 1 1 0 2 2 0 1 2 2 0 1 2 0 2 2 0 2 0 2 2 2 1 1 1 1 2 2 0 0 2 0 0 0 1\n",
      " 0 1 2 0 1 2 0 2 0 2 1 2 1 0 1 0 0 0 1 2 2 1 1 0 1 1 1 1 1 1 1 2 1 2 1 2 2\n",
      " 1 0 1 2 0 2 0 2 0 2 1 2 0 2 0 0 2 2 1 2 1 1 1 2 2 1 1 0 0 1 1 2 0 0 1 2 1\n",
      " 0 2 1 2 2 0 0 0 0 1 2 0 0 1 1 0 1 2 2 0 2 0 1 2 1 0 0 2 1 0 2 1 0 1 0 0 0\n",
      " 0 1 0 2 1 2 0 1 2 1 1 1 1 1 0 0 2 2 2 1 1 1 0 2 1 0 2 2 2 1 0 1 2 2 2 2 0\n",
      " 2 1 0 2 1 1 1 1 1 1 0 1 1 1 1 2 1 2 2 2 2 2 2 1 2 0 2 1 1 2 2 2 2 1 2 1 2\n",
      " 1]\n"
     ]
    }
   ],
   "source": [
    "print(y)"
   ]
  },
  {
   "cell_type": "code",
   "execution_count": 16,
   "metadata": {},
   "outputs": [],
   "source": [
    "from sklearn import cluster\n",
    "clustering = cluster.KMeans(n_clusters=3)"
   ]
  },
  {
   "cell_type": "code",
   "execution_count": 17,
   "metadata": {},
   "outputs": [
    {
     "data": {
      "text/plain": [
       "KMeans(algorithm='auto', copy_x=True, init='k-means++', max_iter=300,\n",
       "       n_clusters=3, n_init=10, n_jobs=None, precompute_distances='auto',\n",
       "       random_state=None, tol=0.0001, verbose=0)"
      ]
     },
     "execution_count": 17,
     "metadata": {},
     "output_type": "execute_result"
    }
   ],
   "source": [
    "clustering.fit(X)"
   ]
  },
  {
   "cell_type": "code",
   "execution_count": 10,
   "metadata": {
    "collapsed": true
   },
   "outputs": [
    {
     "name": "stdout",
     "output_type": "stream",
     "text": [
      "[2 2 2 0 0 0 1 0 1 1 0 2 0 0 0 1 1 1 0 0 0 2 1 0 2 2 0 0 1 0 1 2 2 1 1 0 1\n",
      " 1 1 1 2 0 0 2 1 2 1 1 2 2 1 1 0 0 1 2 2 0 1 0 2 1 0 1 1 2 1 0 1 1 0 2 2 0\n",
      " 2 2 1 2 0 1 1 1 2 1 1 0 0 0 2 1 0 0 1 1 2 0 1 2 2 2 1 2 0 2 0 1 1 1 0 0 0\n",
      " 2 2 2 2 0 1 2 2 1 0 1 1 2 0 2 1 0 0 1 1 1 0 1 1 1 1 1 0 2 1 0 0 1 1 2 1 1\n",
      " 2 2 1 0 2 2 0 0 1 1 2 0 0 1 2 1 2 0 2 2 2 0 0 2 0 1 1 1 1 1 0 1 2 2 2 2 2\n",
      " 1 1 0 0 0 1 1 2 2 2 1 2 2 1 0 2 2 2 2 1 1 0 2 0 1 2 1 1 2 0 2 1 1 0 2 2 0\n",
      " 0 2 2 1 1 0 1 2 0 0 0 2 0 2 2 0 1 2 2 2 0 0 2 2 0 1 0 1 0 0 2 0 0 0 0 2 0\n",
      " 0 2 1 2 0 0 1 2 2 1 0 1 0 2 0 0 2 2 1 0 1 0 2 2 0 0 1 0 0 2 0 0 2 0 2 0 2\n",
      " 0 0 1 2 0 0 2 2 2 1 0 1 1 0 1 0 0 1 1 0 2 1 2 2 0 1 0 2 2 0 2 2 1 1 1 1 1\n",
      " 1 1 1 1 0 0 0 1 1 0 0 2 0 2 2 1 1 0 1 1 2 1 0 0 0 0 2 0 2 0 0 2 2 2 0 0 1\n",
      " 0 0 2 0 0 1 2 1 1 2 1 2 1 0 0 0 0 2 1 0 2 1 0 0 1 2 0 1 2 0 2 2 2 2 0 1 2\n",
      " 0 2 2 2 1 1 1 2 0 0 2 0 1 0 0 2 0 2 2 2 2 1 2 0 1 2 2 1 0 2 1 2 1 1 2 1 0\n",
      " 2 1 0 2 2 0 0 2 1 1 0 0 0 1 0 0 0 0 2 2 2 1 0 1 1 2 1 0 0 2 1 2 0 1 1 2 2\n",
      " 2 2 2 0 1 0 1 0 1 2 0 1 1 2 0 2 1 0 0 2 1 0 0 2 0 0 1 1 2 0 1 0 2 0 2 0 2\n",
      " 1 2 1 0 1 2 0 2 1 2 1 1 1 2 1 0 2 1 1 2 1 1 1 2 1 2 2 0 2 1 0 2 1 1 1 1 1\n",
      " 1 1 0 1 0 1 0 0 0 0 0 0 2 1 2 2 2 1 0 1 2 1 2 1 1 2 2 0 2 0 1 1 2 0 0 2 0\n",
      " 1 2 1 1 1 0 2 1 2 2 0 1 1 2 0 1 0 2 0 0 1 2 1 1 1 0 0 2 1 2 2 1 1 1 2 2 1\n",
      " 0 2 0 0 2 1 0 1 1 0 2 1 0 0 2 0 0 1 0 0 2 1 1 2 2 1 0 0 1 0 1 2 2 0 2 0 0\n",
      " 2 2 1 2 1 1 0 0 0 1 0 1 2 1 0 1 0 1 2 2 1 2 1 1 0 1 1 2 2 0 1 0 2 0 2 2 1\n",
      " 2 0 0 0 2 1 2 0 1 2 1 1 1 0 1 2 0 0 1 1 1 0 1 2 0 0 0 0 2 0 2 2 0 1 2 2 2\n",
      " 1 1 2 2 2 2 2 2 1 0 0 2 0 0 0 2 0 0 1 1 0 2 0 2 1 0 1 2 1 2 1 0 1 1 1 1 2\n",
      " 0 0 0 2 0 2 2 1 0 0 2 0 2 1 0 2 1 1 2 1 0 2 1 2 0 1 2 1 2 0 1 2 2 0 2 0 2\n",
      " 1 2 0 0 2 1 2 1 1 2 1 1 2 1 1 1 0 0 2 1 0 0 2 2 2 2 0 0 0 2 1 1 1 0 0 1 2\n",
      " 0 0 2 1 1 2 1 2 2 0 0 1 1 0 1 2 0 2 0 2 1 0 2 0 0 1 0 1 2 2 1 0 0 0 0 1 2\n",
      " 2 2 1 0 1 1 0 2 1 2 0 1 0 2 0 0 2 2 0 2 2 0 0 1 0 0 2 0 2 2 1 2 1 2 1 1 2\n",
      " 2 0 2 1 1 1 1 1 0 2 0 1 2 2 1 1 1 1 2 0 1 2 2 0 0 2 0 2 1 2 1 1 1 2 1 0 0\n",
      " 2 2 0 2 1 2 1 2 1 2 1 0 1 2 2 0 2 0 2 0 2 1 2 0 2 0 0 0 1 1 2 0 2 0 1 0 1\n",
      " 1]\n"
     ]
    }
   ],
   "source": [
    "# etiquetas de los clusters encontrados\n",
    "print(clustering.labels_)"
   ]
  },
  {
   "cell_type": "code",
   "execution_count": 18,
   "metadata": {},
   "outputs": [
    {
     "name": "stdout",
     "output_type": "stream",
     "text": [
      "[[ 29  12 293]\n",
      " [  2 316  15]\n",
      " [309   5  19]]\n"
     ]
    }
   ],
   "source": [
    "print(\n",
    "  sklearn.metrics.confusion_matrix(y_pred=clustering.labels_, y_true=y)\n",
    ")"
   ]
  }
 ],
 "metadata": {
  "kernelspec": {
   "display_name": "Python 3",
   "language": "python",
   "name": "python3"
  },
  "language_info": {
   "codemirror_mode": {
    "name": "ipython",
    "version": 3
   },
   "file_extension": ".py",
   "mimetype": "text/x-python",
   "name": "python",
   "nbconvert_exporter": "python",
   "pygments_lexer": "ipython3",
   "version": "3.7.4"
  }
 },
 "nbformat": 4,
 "nbformat_minor": 2
}
